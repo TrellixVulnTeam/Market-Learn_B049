{
 "cells": [
  {
   "cell_type": "code",
   "execution_count": 34,
   "metadata": {},
   "outputs": [
    {
     "data": {
      "text/plain": [
       "'YOUR CODE GOES HERE'"
      ]
     },
     "execution_count": 34,
     "metadata": {},
     "output_type": "execute_result"
    }
   ],
   "source": [
    "from __future__ import annotations\n",
    "\n",
    "import os\n",
    "from abc import ABCMeta, abstractmethod\n",
    "from dataclasses import dataclass\n",
    "from typing import Optional\n",
    "\n",
    "import matplotlib.pyplot as plt\n",
    "import numpy as np\n",
    "import pandas as pd\n",
    "from sklearn.preprocessing import PolynomialFeatures\n",
    "\n",
    "PATH_TO_FILE = os.path.join(\n",
    "    os.getcwd(), \"artificial_intelligence\", \"hw4\", \"starter\", \"data1.csv\"\n",
    ")\n",
    "\n",
    "\n",
    "@dataclass\n",
    "class LinearBase(metaclass=ABCMeta):\n",
    "    \"\"\"Abstract Base class representing the Linear Model\"\"\"\n",
    "\n",
    "    @abstractmethod\n",
    "    def fit(self) -> object:\n",
    "        pass\n",
    "\n",
    "    @abstractmethod\n",
    "    def predict(self) -> Optional[np.ndarray]:\n",
    "        pass\n",
    "\n",
    "    def make_polynomial(\n",
    "        self, X: np.ndarray, degree: int, bias: bool\n",
    "    ) -> np.ndarray:\n",
    "        pf = PolynomialFeatures(degree=degree, include_bias=bias)\n",
    "        return pf.fit_transform(X)\n",
    "\n",
    "    def reg_plot(self, X: np.ndarray, y: np.ndarray, diagnostics):\n",
    "        plt.figure(figsize=(10, 6))\n",
    "        plt.scatter(X, y)\n",
    "        # sort by design matrix -- needed for matplotlib\n",
    "        sorted_values = iter(\n",
    "            sorted(\n",
    "                zip(X.flatten(), diagnostics.predictions),\n",
    "                key=itemgetter(0),\n",
    "            )\n",
    "        )\n",
    "        X, pred = zip(*sorted_values)\n",
    "        plt.plot(X, pred, \"m-\")\n",
    "        plt.title(\"Regression Plot\")\n",
    "\n",
    "\n",
    "@dataclass\n",
    "class NeuralBase(LinearBase):\n",
    "    \"\"\"Abstract Base class representing a Neural Network\"\"\"\n",
    "\n",
    "    def net_input(self, X: np.ndarray, thetas: np.ndarray) -> np.ndarray:\n",
    "        \"\"\"Computes the net input vector\n",
    "        z = w1x1 + w2x2 + ... + wpxp := w'x\n",
    "\n",
    "        Parameters\n",
    "        ----------\n",
    "        X : np.ndarray, shape={n_samples, p_features}\n",
    "            design matrix\n",
    "        thetas : np.ndarray, shape={p_features + intercept}\n",
    "            weights of neural classifier, w vector above\n",
    "            assumes first element is the bias unit i.e intercept\n",
    "\n",
    "        Returns\n",
    "        -------\n",
    "        np.ndarray\n",
    "            linear transformation\n",
    "        \"\"\"\n",
    "        return X @ thetas\n",
    "\n",
    "\n",
    "@dataclass\n",
    "class Perceptron(NeuralBase):\n",
    "    \"\"\"Implements the Perceptron Learning Algorithm\"\"\"\n",
    "\n",
    "    def __init__(self, eta: float = 0.01, niter: int = 50, bias: bool = True):\n",
    "        self.eta = eta\n",
    "        self.niter = niter\n",
    "        self.bias = bias\n",
    "        self.errors = None\n",
    "        self.thetas = None\n",
    "        self.degree = 1\n",
    "\n",
    "    def fit(self, X: np.ndarray, y: np.ndarray) -> Perceptron:\n",
    "        \"\"\"fits training data\n",
    "\n",
    "        Parameters\n",
    "        ----------\n",
    "        X : np.ndarray, shape=(n_samples, p_features)\n",
    "            n_samples is number of instances i.e rows\n",
    "            p_features is number of features (dimension of data)\n",
    "        y : np.ndarray\n",
    "            response variable\n",
    "\n",
    "        Returns\n",
    "        -------\n",
    "        Perception\n",
    "            object with fitted parameters\n",
    "        \"\"\"\n",
    "        # Add bias unit to design matrix\n",
    "        degree, bias = self.degree, self.bias\n",
    "        X = self.make_polynomial(X, degree, bias)\n",
    "\n",
    "        # Generate small random weights\n",
    "        self.thetas = np.random.rand(X.shape[1])\n",
    "        self.errors = np.zeros(self.niter)\n",
    "        weights = {}\n",
    "\n",
    "        for index in range(self.niter):\n",
    "            # Count total misclassifications in each iteration\n",
    "            count = 0\n",
    "\n",
    "            # Iterate through each example and identify misclassifications\n",
    "            # Number of errors must decline after each iteration\n",
    "            for xi, target in zip(X, y):\n",
    "                # make prediction\n",
    "                yhat = self.predict(xi)\n",
    "\n",
    "                # update weights if there are misclassifications\n",
    "                if target * yhat <= 0:\n",
    "                    self.thetas += self.eta * (target - yhat) * xi\n",
    "                    count += 1\n",
    "            # updated weight per iteration\n",
    "            weights[index] = self.thetas.copy()\n",
    "            # store count of errors in each iteration\n",
    "            self.errors[index] = count\n",
    "        \n",
    "        self.weights = pd.DataFrame.from_dict(weights, orient='index', columns=['bias', 'coef1', 'coef2'])\n",
    "        return self\n",
    "\n",
    "    def predict(\n",
    "        self, X: np.ndarray, thetas: Optional[np.ndarray] = None\n",
    "    ) -> np.ndarray:\n",
    "        \"\"\"Activation function to determine if neuron should fire or not\n",
    "\n",
    "        Parameters\n",
    "        ----------\n",
    "        X : np.ndarray\n",
    "            design matrix that includes the bias\n",
    "        thetas : Union[np.ndarray, None], optional\n",
    "            weights from fitting, by default None\n",
    "\n",
    "        Returns\n",
    "        -------\n",
    "        np.ndarray\n",
    "            predictions\n",
    "        \"\"\"\n",
    "        if thetas is None and self.thetas is None:\n",
    "            raise ValueError(\n",
    "                \"Empty weights provided, either call fit() first or provide \\\n",
    "                    weights\"\n",
    "            )\n",
    "        elif thetas is None:\n",
    "            return 1 if self.net_input(X, self.thetas) >= 0 else -1\n",
    "        return 1 if self.net_input(X, thetas) >= 0 else -1\n",
    "\n",
    "    def plot_misclassifications(self) -> None:\n",
    "        \"\"\"Plots the misclassifications given number of iterations\n",
    "        Requires call to fit() first, otherwise raise appropriate error\n",
    "\n",
    "        Raises\n",
    "        ------\n",
    "        AttributeError\n",
    "            if fit() has not been called\n",
    "        \"\"\"\n",
    "        if self.errors is None:\n",
    "            raise AttributeError(\n",
    "                \"Must call fit() first before plotting \\\n",
    "                    misclassifications\"\n",
    "            )\n",
    "        # plot the errors\n",
    "        plt.plot(range(1, self.niter + 1), self.errors, marker=\"o\")\n",
    "        plt.xlabel(\"Iterations\")\n",
    "        plt.ylabel(\"# of misclassifications\")\n",
    "        plt.grid()\n",
    "        plt.show()\n",
    "    \n",
    "    def draw_boundary(self, X):\n",
    "        bias, w0, w1 = self.thetas\n",
    "        x1 = X[:, 0].copy()\n",
    "        x2 = -w1/w0 * x1 + bias\n",
    "        return x2\n",
    "\n",
    "\n",
    "\"\"\"YOUR CODE GOES HERE\"\"\"\n",
    "pla = Perceptron(eta=0.1)\n",
    "data = np.genfromtxt('data1.csv', delimiter=\",\");\n",
    "X, y = data[:, :2], data[:, 2]\n",
    "_ = pla.fit(X, y);\n",
    "pla.weights.to_csv(\"results1.csv\")\n",
    "\n",
    "\n"
   ]
  },
  {
   "cell_type": "markdown",
   "metadata": {},
   "source": [
    "$\\theta$"
   ]
  },
  {
   "cell_type": "code",
   "execution_count": 36,
   "metadata": {},
   "outputs": [
    {
     "data": {
      "text/html": [
       "<div>\n",
       "<style scoped>\n",
       "    .dataframe tbody tr th:only-of-type {\n",
       "        vertical-align: middle;\n",
       "    }\n",
       "\n",
       "    .dataframe tbody tr th {\n",
       "        vertical-align: top;\n",
       "    }\n",
       "\n",
       "    .dataframe thead th {\n",
       "        text-align: right;\n",
       "    }\n",
       "</style>\n",
       "<table border=\"1\" class=\"dataframe\">\n",
       "  <thead>\n",
       "    <tr style=\"text-align: right;\">\n",
       "      <th></th>\n",
       "      <th>bias</th>\n",
       "      <th>coef1</th>\n",
       "      <th>coef2</th>\n",
       "    </tr>\n",
       "  </thead>\n",
       "  <tbody>\n",
       "    <tr>\n",
       "      <th>0</th>\n",
       "      <td>0.653175</td>\n",
       "      <td>0.678283</td>\n",
       "      <td>0.065254</td>\n",
       "    </tr>\n",
       "    <tr>\n",
       "      <th>1</th>\n",
       "      <td>1.053175</td>\n",
       "      <td>1.278283</td>\n",
       "      <td>1.865254</td>\n",
       "    </tr>\n",
       "    <tr>\n",
       "      <th>2</th>\n",
       "      <td>1.253175</td>\n",
       "      <td>0.478283</td>\n",
       "      <td>-0.134746</td>\n",
       "    </tr>\n",
       "    <tr>\n",
       "      <th>3</th>\n",
       "      <td>1.653175</td>\n",
       "      <td>1.078283</td>\n",
       "      <td>1.665254</td>\n",
       "    </tr>\n",
       "    <tr>\n",
       "      <th>4</th>\n",
       "      <td>2.053175</td>\n",
       "      <td>0.478283</td>\n",
       "      <td>1.865254</td>\n",
       "    </tr>\n",
       "  </tbody>\n",
       "</table>\n",
       "</div>"
      ],
      "text/plain": [
       "       bias     coef1     coef2\n",
       "0  0.653175  0.678283  0.065254\n",
       "1  1.053175  1.278283  1.865254\n",
       "2  1.253175  0.478283 -0.134746\n",
       "3  1.653175  1.078283  1.665254\n",
       "4  2.053175  0.478283  1.865254"
      ]
     },
     "execution_count": 36,
     "metadata": {},
     "output_type": "execute_result"
    }
   ],
   "source": [
    "pla.weights.head()"
   ]
  },
  {
   "cell_type": "code",
   "execution_count": null,
   "metadata": {},
   "outputs": [],
   "source": []
  },
  {
   "cell_type": "code",
   "execution_count": 44,
   "metadata": {},
   "outputs": [],
   "source": [
    "def plot_data(inputs, targets, weights):\n",
    "    plt.figure(figsize=(10, 6))\n",
    "    plt.grid(True)\n",
    "\n",
    "    for input, target in zip(inputs, targets):\n",
    "        plt.plot(input[0], input[1], 'ro' if (target==1.0) else 'bo')\n",
    "    \n",
    "    for i in np.linspace(np.amin(inputs[:, :1]), np.amax(inputs[:, :1])):\n",
    "        slope = -weights[1] / weights[2]\n",
    "        intercept = -weights[0] / weights[2]\n",
    "        y = (slope * i) + intercept\n",
    "        plt.plot(i, y, 'ko')"
   ]
  },
  {
   "cell_type": "code",
   "execution_count": 45,
   "metadata": {},
   "outputs": [
    {
     "data": {
      "image/png": "[encoded data removed]",
      "text/plain": [
       "<Figure size 720x432 with 1 Axes>"
      ]
     },
     "metadata": {
      "needs_background": "light"
     },
     "output_type": "display_data"
    }
   ],
   "source": [
    "plot_data(X, y, pla.thetas)"
   ]
  },
  {
   "cell_type": "code",
   "execution_count": 47,
   "metadata": {},
   "outputs": [
    {
     "data": {
      "text/plain": [
       "15.0"
      ]
     },
     "execution_count": 47,
     "metadata": {},
     "output_type": "execute_result"
    }
   ],
   "source": [
    "np.amax(X[:, :1])"
   ]
  },
  {
   "cell_type": "code",
   "execution_count": 49,
   "metadata": {},
   "outputs": [],
   "source": [
    "x = np.array([4, 5, 6])"
   ]
  },
  {
   "cell_type": "code",
   "execution_count": 11,
   "metadata": {},
   "outputs": [
    {
     "ename": "ValueError",
     "evalue": "matmul: Input operand 1 has a mismatch in its core dimension 0, with gufunc signature (n?,k),(k,m?)->(n?,m?) (size 3 is different from 2)",
     "output_type": "error",
     "traceback": [
      "\u001b[0;31m---------------------------------------------------------------------------\u001b[0m",
      "\u001b[0;31mValueError\u001b[0m                                Traceback (most recent call last)",
      "\u001b[0;32m/var/folders/vh/klwv059x6055j90z43f5pffw0000gn/T/ipykernel_48529/360588502.py\u001b[0m in \u001b[0;36m<module>\u001b[0;34m\u001b[0m\n\u001b[0;32m----> 1\u001b[0;31m \u001b[0mX\u001b[0m \u001b[0;34m@\u001b[0m \u001b[0mpla\u001b[0m\u001b[0;34m.\u001b[0m\u001b[0mthetas\u001b[0m\u001b[0;34m\u001b[0m\u001b[0;34m\u001b[0m\u001b[0m\n\u001b[0m",
      "\u001b[0;31mValueError\u001b[0m: matmul: Input operand 1 has a mismatch in its core dimension 0, with gufunc signature (n?,k),(k,m?)->(n?,m?) (size 3 is different from 2)"
     ]
    }
   ],
   "source": [
    "X @ pla.thetas"
   ]
  },
  {
   "cell_type": "code",
   "execution_count": 50,
   "metadata": {},
   "outputs": [
    {
     "data": {
      "text/plain": [
       "(3, 4, 4, 5, 6)"
      ]
     },
     "execution_count": 50,
     "metadata": {},
     "output_type": "execute_result"
    }
   ],
   "source": [
    "(3, 4, *x)"
   ]
  },
  {
   "cell_type": "code",
   "execution_count": 51,
   "metadata": {},
   "outputs": [
    {
     "data": {
      "text/plain": [
       "array([4, 5, 6])"
      ]
     },
     "execution_count": 51,
     "metadata": {},
     "output_type": "execute_result"
    }
   ],
   "source": [
    "x"
   ]
  },
  {
   "cell_type": "code",
   "execution_count": null,
   "metadata": {},
   "outputs": [],
   "source": []
  }
 ],
 "metadata": {
  "interpreter": {
   "hash": "bf4fb71fce9e3a23ee0c5767a71cb0cc07099e63c56f643ef38448230a56de38"
  },
  "kernelspec": {
   "display_name": "Python 3.9.6 64-bit ('py39': venv)",
   "name": "python3"
  },
  "language_info": {
   "codemirror_mode": {
    "name": "ipython",
    "version": 3
   },
   "file_extension": ".py",
   "mimetype": "text/x-python",
   "name": "python",
   "nbconvert_exporter": "python",
   "pygments_lexer": "ipython3",
   "version": "3.9.6"
  },
  "orig_nbformat": 4
 },
 "nbformat": 4,
 "nbformat_minor": 2
}
