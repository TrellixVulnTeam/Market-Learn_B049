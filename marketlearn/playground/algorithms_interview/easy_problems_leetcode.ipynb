{
 "cells": [
  {
   "cell_type": "markdown",
   "metadata": {},
   "source": [
    "# ARRAYS"
   ]
  },
  {
   "cell_type": "code",
   "execution_count": null,
   "metadata": {},
   "outputs": [],
   "source": [
    "def remove_duplicates(nums):\n",
    "    \"\"\"removes duplicates from sorted nums array\n",
    "    by modifying the array in place\n",
    "    T(n) ~ O(n), Space Complexity O(1)\n",
    "    \"\"\"\n",
    "    idx = 0 # first element is unique always\n",
    "    n = len(nums)\n",
    "    for i in range(n - 1):\n",
    "        if nums[i] != nums[i+1]:\n",
    "            idx += 1\n",
    "            nums[idx] = nums[i+1]\n",
    "    total_unique_items = idx + 1\n",
    "    return nums[:total_unique_items]"
   ]
  },
  {
   "cell_type": "code",
   "execution_count": null,
   "metadata": {},
   "outputs": [],
   "source": [
    "arr = [1, 1, 1, 2, 3, 4, 4, 5, 6, 10, 12, 12]\n",
    "\n",
    "remove_duplicates(arr)"
   ]
  },
  {
   "cell_type": "code",
   "execution_count": null,
   "metadata": {},
   "outputs": [],
   "source": [
    "arr"
   ]
  },
  {
   "cell_type": "code",
   "execution_count": 448,
   "metadata": {},
   "outputs": [],
   "source": [
    "# Best time to buy and sell a stock version 1\n",
    "#  you are given an integer array prices where prices[i] is price of given stock on day i\n",
    "# on each day, you can buy or sell the stock, you can hold at most 1 share of stock.  find the maximum profit\n",
    "# prices = [7, 1, 5, 3, 6, 4]\n",
    "# Assume you can buy or sell just once\n",
    "import sys\n",
    "def max_profit_buy_or_sell(arr):\n",
    "    max_profit = 0\n",
    "    smallest = sys.maxsize\n",
    "    n = len(arr)\n",
    "    for i in range(n):\n",
    "        if arr[i] < smallest:\n",
    "            smallest = arr[i]\n",
    "        else:\n",
    "            max_profit = max(max_profit, arr[i] - smallest)\n",
    "    return max_profit"
   ]
  },
  {
   "cell_type": "code",
   "execution_count": 449,
   "metadata": {},
   "outputs": [],
   "source": [
    "# length of longest substring non repeating\n",
    "def length_of_longestsubstring(s: str) -> int:\n",
    "    if s is None or len(s) == 0:\n",
    "        return 0\n",
    "    seen = set()\n",
    "    maximum = 0\n",
    "    j = 0\n",
    "    for i, c in enumerate(s):\n",
    "        while j <= i and c in seen:\n",
    "            seen.remove(s[j])\n",
    "            j += 1\n",
    "        seen.add(c)\n",
    "        maximum = max(maximum, i - j + 1)\n",
    "\n",
    "    return maximum\n",
    "\n"
   ]
  },
  {
   "cell_type": "code",
   "execution_count": 450,
   "metadata": {},
   "outputs": [],
   "source": [
    "# input is an array and  you have to reorder in such a way that it becomes even odd array\n",
    "def even_odd(A):\n",
    "    next_even, next_odd = 0, len(A) - 1\n",
    "    while next_even < next_odd:\n",
    "        if A[next_even] % 2 == 0:\n",
    "            next_even += 1\n",
    "        else:\n",
    "            A[next_even], A[next_odd] = A[next_odd], A[next_even]\n",
    "            next_odd -= 1\n"
   ]
  },
  {
   "cell_type": "code",
   "execution_count": 451,
   "metadata": {},
   "outputs": [],
   "source": [
    "A = [1,2,3, 4, 5,6, 7, 8]\n",
    "even_odd(A)"
   ]
  },
  {
   "cell_type": "code",
   "execution_count": 452,
   "metadata": {},
   "outputs": [
    {
     "data": {
      "text/plain": [
       "[8, 2, 6, 4, 5, 7, 3, 1]"
      ]
     },
     "execution_count": 452,
     "metadata": {},
     "output_type": "execute_result"
    }
   ],
   "source": [
    "A"
   ]
  },
  {
   "cell_type": "code",
   "execution_count": 453,
   "metadata": {},
   "outputs": [],
   "source": [
    "def dutch_flag_partition(pivot_index, A):\n",
    "    pivot = A[pivot_index]\n",
    "    smaller = 0\n",
    "    n = len(A)\n",
    "    for i in range(n):\n",
    "        if A[i] < pivot:\n",
    "            A[i], A[smaller] = A[smaller], A[i]\n",
    "            smaller += 1\n",
    "    larger = n - 1\n",
    "    for i in reversed(range(n)):\n",
    "        if A[i] < pivot:\n",
    "            break\n",
    "        elif A[i] > pivot:\n",
    "            A[i], A[larger] = A[larger], A[i]\n",
    "            larger -= 1\n",
    "\n",
    "def dutch_flag_partitionv2(pivot_index, A):\n",
    "    \"\"\"partions based on less than, equal to and greater than\"\"\"\n",
    "    smaller, equal, larger = 0, 0, len(A)\n",
    "    pivot = A[pivot_index]\n",
    "    while equal < larger:\n",
    "        if A[equal] < pivot:\n",
    "            A[smaller], A[equal] = A[equal], A[smaller]\n",
    "            equal, smaller = equal + 1, smaller + 1\n",
    "        elif A[equal] == pivot:\n",
    "            equal += 1\n",
    "        elif A[equal] > pivot:\n",
    "            # move equal towards the end\n",
    "            larger -= 1\n",
    "            A[equal], A[larger] = A[larger], A[equal]\n",
    "\n",
    "\n",
    "\n"
   ]
  },
  {
   "cell_type": "code",
   "execution_count": 454,
   "metadata": {},
   "outputs": [],
   "source": [
    "A = [0, 1, 5, 0, 2, 1, 5, 3, 3]\n",
    "dutch_flag_partitionv2(2, A)"
   ]
  },
  {
   "cell_type": "code",
   "execution_count": 577,
   "metadata": {},
   "outputs": [],
   "source": [
    "A = [1, 2, 3]\n",
    "A[-1] += 1"
   ]
  },
  {
   "cell_type": "code",
   "execution_count": 583,
   "metadata": {},
   "outputs": [],
   "source": [
    "\n",
    "for i in reversed(range(1, len(A))):\n",
    "    if A[i] != 10:\n",
    "        break\n",
    "    "
   ]
  },
  {
   "cell_type": "code",
   "execution_count": 574,
   "metadata": {},
   "outputs": [],
   "source": [
    "A = [1, 2, 9]\n",
    "def plus_one(A):\n",
    "    A[-1] += 1\n",
    "    for i in reversed(range(1, len(A))):\n",
    "        if A[i] != 10:\n",
    "            break\n",
    "        A[i] = 0\n",
    "        A[i - 1] += 1\n",
    "    if A[0] == 10:\n",
    "        A[0] = 1\n",
    "        A.append(0)\n",
    "    return A"
   ]
  },
  {
   "cell_type": "code",
   "execution_count": 585,
   "metadata": {},
   "outputs": [
    {
     "data": {
      "text/plain": [
       "[[2, 3], [3, 4]]"
      ]
     },
     "execution_count": 585,
     "metadata": {},
     "output_type": "execute_result"
    }
   ],
   "source": [
    "sorted([[3, 4], [2, 3]])"
   ]
  },
  {
   "cell_type": "code",
   "execution_count": 456,
   "metadata": {},
   "outputs": [],
   "source": [
    "num1 = [1, 9, 3, 7, 0, 7, 7, 2, 1]\n",
    "num2 = [-7, 6, 1, 8, 3, 8, 2, 5, 7, 2, 8, 7]\n",
    "def multiply(num1, num2):\n",
    "    sign = -1  if (num1[0] < 0) ^ (num2[0] < 0) else 1\n",
    "    num1[0], num2[0] = abs(num1[0]), abs(num2[0])\n",
    "    n = len(num1)\n",
    "    m = len(num2)\n",
    "    result = [0] * (n + m)\n",
    "    for i in reversed(range(n)):\n",
    "        for j in reversed(range(m)):\n",
    "            result[i + j + 1] += num1[i] * num2[j]\n",
    "            result[i + j] += result[i + j + 1] // 10\n",
    "            result[i + j + 1]  %= 10\n",
    "    result = result[next((i for i, x in enumerate(result) if x != 0),\n",
    "    len(result)):] or [0]\n",
    "    return [sign * result[0]] + result[1:]\n",
    "\n"
   ]
  },
  {
   "cell_type": "code",
   "execution_count": null,
   "metadata": {},
   "outputs": [],
   "source": [
    "result = multiply(num1, num2)"
   ]
  },
  {
   "cell_type": "code",
   "execution_count": null,
   "metadata": {},
   "outputs": [],
   "source": [
    "def can_reach_end(A):\n",
    "    furthest_reach_so_far, last_index = 0, len(A) - 1\n",
    "    i = 0\n",
    "    while i <= furthest_reach_so_far and furthest_reach_so_far < last_index:\n",
    "        yield furthest_reach_so_far\n",
    "        furthest_reach_so_far = max(furthest_reach_so_far, A[i] + i)\n",
    "        i += 1"
   ]
  },
  {
   "cell_type": "code",
   "execution_count": null,
   "metadata": {},
   "outputs": [],
   "source": []
  },
  {
   "cell_type": "code",
   "execution_count": null,
   "metadata": {},
   "outputs": [],
   "source": [
    "list(can_reach_end(A))"
   ]
  },
  {
   "cell_type": "code",
   "execution_count": null,
   "metadata": {},
   "outputs": [],
   "source": [
    "for i in range(2, 10, 2):\n",
    "    print(i)"
   ]
  },
  {
   "cell_type": "code",
   "execution_count": 457,
   "metadata": {},
   "outputs": [],
   "source": [
    "def buy_and_sell_stock_once(prices):\n",
    "    min_price_so_far = float('inf')\n",
    "    max_profit = 0\n",
    "    for price in prices:\n",
    "        max_profit_sell_today = price - min_price_so_far\n",
    "        max_profit = max(max_profit, max_profit_sell_today)\n",
    "        min_price_so_far = min(min_price_so_far, price)\n",
    "    return max_profit\n"
   ]
  },
  {
   "cell_type": "code",
   "execution_count": 459,
   "metadata": {},
   "outputs": [
    {
     "data": {
      "text/plain": [
       "30"
      ]
     },
     "execution_count": 459,
     "metadata": {},
     "output_type": "execute_result"
    }
   ],
   "source": [
    "prices = [310, 315, 275, 295, 260, 270, 290, 231, 255, 250]\n",
    "buy_and_sell_stock_once(prices)"
   ]
  },
  {
   "cell_type": "code",
   "execution_count": 461,
   "metadata": {},
   "outputs": [
    {
     "data": {
      "text/plain": [
       "-inf"
      ]
     },
     "execution_count": 461,
     "metadata": {},
     "output_type": "execute_result"
    }
   ],
   "source": [
    "3 - float('inf')"
   ]
  },
  {
   "cell_type": "code",
   "execution_count": 464,
   "metadata": {},
   "outputs": [
    {
     "data": {
      "text/plain": [
       "7"
      ]
     },
     "execution_count": 464,
     "metadata": {},
     "output_type": "execute_result"
    }
   ],
   "source": [
    "max_profit_buy_or_sell(prices)"
   ]
  },
  {
   "cell_type": "code",
   "execution_count": 462,
   "metadata": {},
   "outputs": [],
   "source": [
    "def buy_and_sell_stock_oncef(prices):\n",
    "    max_profit, min_price_seen_so_far = 0, sys.maxsize\n",
    "    for price in prices:\n",
    "        min_price_seen_so_far = min(price, min_price_seen_so_far)\n",
    "        max_profit = max(max_profit, price - min_price_seen_so_far)\n",
    "    return max_profit"
   ]
  },
  {
   "cell_type": "code",
   "execution_count": 463,
   "metadata": {},
   "outputs": [
    {
     "data": {
      "text/plain": [
       "7"
      ]
     },
     "execution_count": 463,
     "metadata": {},
     "output_type": "execute_result"
    }
   ],
   "source": [
    "prices = [12, 11, 13, 9, 12, 8, 14, 13, 15]\n",
    "buy_and_sell_stock_oncef(prices)"
   ]
  },
  {
   "cell_type": "code",
   "execution_count": null,
   "metadata": {},
   "outputs": [],
   "source": []
  },
  {
   "cell_type": "code",
   "execution_count": null,
   "metadata": {},
   "outputs": [],
   "source": [
    "def buy_and_sell_stock_twice(prices):\n",
    "    min_price_seen_so_far, max_profit = sys.maxsize, 0\n",
    "    first_buy_sell_stock = [0] * len(prices)\n",
    "    for index, price in enumerate(prices):\n",
    "        min_price_seen_so_far = min(min_price_seen_so_far, price)\n",
    "        max_profit = max(max_profit, price - min_price_seen_so_far)\n",
    "        first_buy_sell_stock[index] = max_profit\n",
    "    # backward pass\n",
    "    max_price_so_far = -1 * sys.maxsize\n",
    "    for index, price in reversed(list(enumerate(prices))):\n",
    "        max_price_so_far = max(price, max_price_so_far)\n",
    "        max_profit = max(max_profit, max_price_so_far - price + first_buy_sell_stock[index - 1])\n",
    "\n",
    "    return max_profit\n"
   ]
  },
  {
   "cell_type": "code",
   "execution_count": null,
   "metadata": {},
   "outputs": [],
   "source": [
    "buy_and_sell_stock_twice(prices)"
   ]
  },
  {
   "cell_type": "code",
   "execution_count": null,
   "metadata": {},
   "outputs": [],
   "source": [
    "def countPrimes(n: int) -> int:\n",
    "        if n <= 2:\n",
    "            return 0\n",
    "        if n == 3:\n",
    "            return 1\n",
    "        \n",
    "        is_prime = [False, False] + [True] * (n - 1)\n",
    "        for p in range(2, n + 1):\n",
    "            if is_prime[p]:\n",
    "                for i in range(2*p, n+1,p):\n",
    "                    is_prime[i] = False\n",
    "                \n",
    "        return sum(is_prime[:-1])"
   ]
  },
  {
   "cell_type": "code",
   "execution_count": 588,
   "metadata": {},
   "outputs": [
    {
     "data": {
      "text/plain": [
       "[22, 4, 3, 10, 26]"
      ]
     },
     "execution_count": 588,
     "metadata": {},
     "output_type": "execute_result"
    }
   ],
   "source": [
    "test = [3, 4, 5, 10, 22, 4, 3, 10, 26]\n",
    "test[-5:]"
   ]
  },
  {
   "cell_type": "code",
   "execution_count": null,
   "metadata": {},
   "outputs": [],
   "source": [
    "class ListNode:\n",
    "    def __init__(self, val, next):\n",
    "        self.val = val\n",
    "        self.next = next\n",
    "\n",
    "from typing import Optional\n",
    "def addTwoNumbers(l1: Optional[ListNode], l2: Optional[ListNode]) -> Optional[ListNode]:\n",
    "        \"\"\"\n",
    "        :type l1: ListNode\n",
    "        :type l2: ListNode\n",
    "        :rtype: ListNode\n",
    "        \"\"\"\n",
    "        result = ListNode(0)\n",
    "        result_tail = result\n",
    "        carry = 0\n",
    "                \n",
    "        while l1 or l2 or carry:            \n",
    "            val1  = (l1.val if l1 else 0)\n",
    "            val2  = (l2.val if l2 else 0)\n",
    "            carry, out = divmod(val1+val2 + carry, 10)    \n",
    "                      \n",
    "            result_tail.next = ListNode(out)\n",
    "            result_tail = result_tail.next                      \n",
    "            \n",
    "            l1 = (l1.next if l1 else None)\n",
    "            l2 = (l2.next if l2 else None)\n",
    "               \n",
    "        return result.next"
   ]
  },
  {
   "cell_type": "code",
   "execution_count": null,
   "metadata": {},
   "outputs": [],
   "source": [
    "s = \"raju\"\n",
    "eval(s)"
   ]
  },
  {
   "cell_type": "code",
   "execution_count": null,
   "metadata": {},
   "outputs": [],
   "source": [
    "d = {'M': 1000,\n",
    "                'D': 500,\n",
    "                'C': 100,\n",
    "                'L': 50,\n",
    "                'X': 10,\n",
    "                'V': 5,\n",
    "                'I': 1,\n",
    "                'CM': 900,\n",
    "                'CD': 400,\n",
    "                'XC': 90,\n",
    "                'XL': 40,\n",
    "                'IX': 9,\n",
    "                'IV': 4}\n",
    "s = sorted(d.items(), key = lambda x: x[1], reverse=True)\n"
   ]
  },
  {
   "cell_type": "code",
   "execution_count": null,
   "metadata": {},
   "outputs": [],
   "source": [
    "def intToRoman(num: int):\n",
    "    roman_digits = []\n",
    "    for symbol, value in s:\n",
    "        if num == 0:\n",
    "            break\n",
    "        count, num = divmod(num, value)\n",
    "        roman_digits.append(symbol * count)\n",
    "    return \"\".join(roman_digits)"
   ]
  },
  {
   "cell_type": "code",
   "execution_count": null,
   "metadata": {},
   "outputs": [],
   "source": [
    "intToRoman(478)"
   ]
  },
  {
   "cell_type": "code",
   "execution_count": null,
   "metadata": {},
   "outputs": [],
   "source": [
    "def two_sum(nums, target):\n",
    "    cache = {}\n",
    "    for i, number in enumerate(nums):\n",
    "        result = target - number\n",
    "        if result not in cache:\n",
    "            cache[number] = i\n",
    "        else:\n",
    "            return [cache[result], i]\n",
    "    return [-1, -1]"
   ]
  },
  {
   "cell_type": "code",
   "execution_count": null,
   "metadata": {},
   "outputs": [],
   "source": [
    "two_sum([1,7,11,2147483647], 18)"
   ]
  },
  {
   "cell_type": "code",
   "execution_count": null,
   "metadata": {},
   "outputs": [],
   "source": [
    "def length_of_longest_substring_brute(s):\n",
    "    n = len(s)\n",
    "    result = 0\n",
    "    for i in range(n):\n",
    "        for j in range(i, n):\n",
    "            if check(s, i, j):\n",
    "                result = max(result, j - i + 1)\n",
    "    return result\n",
    "\n",
    "def check(s, i, j):\n",
    "    seen = set()\n",
    "    for item in s[i:j+1]:\n",
    "        if item in seen:\n",
    "            return False\n",
    "        seen.add(item)\n",
    "    return True\n",
    "    \n"
   ]
  },
  {
   "cell_type": "code",
   "execution_count": null,
   "metadata": {},
   "outputs": [],
   "source": [
    "length_of_longest_substring_brute(\"abcabcbb\")"
   ]
  },
  {
   "cell_type": "code",
   "execution_count": null,
   "metadata": {},
   "outputs": [],
   "source": [
    "s = \"abcabcabc\"\n",
    "s[0:1]"
   ]
  },
  {
   "cell_type": "code",
   "execution_count": null,
   "metadata": {},
   "outputs": [],
   "source": [
    "def length_of_longest_substring_sliding_window(s):\n",
    "    if s is None or len(s) == 0:\n",
    "        return 0\n",
    "    left = 0\n",
    "    n = len(s)\n",
    "    seen = set()\n",
    "    maximum = 0\n",
    "    for right, item in enumerate(s):\n",
    "        while item in seen and left <= right:\n",
    "            seen.remove(s[left])\n",
    "            left += 1\n",
    "        seen.add(item)\n",
    "        maximum = max(maximum, right - left + 1)\n",
    "    return maximum"
   ]
  },
  {
   "cell_type": "code",
   "execution_count": null,
   "metadata": {},
   "outputs": [],
   "source": [
    "length_of_longest_substring_sliding_window(\"abcabcabcbb\")"
   ]
  },
  {
   "cell_type": "code",
   "execution_count": null,
   "metadata": {},
   "outputs": [],
   "source": []
  },
  {
   "cell_type": "code",
   "execution_count": null,
   "metadata": {},
   "outputs": [],
   "source": [
    "length_of_longestsubstring(\"abcabcabcbb\")"
   ]
  },
  {
   "cell_type": "code",
   "execution_count": null,
   "metadata": {},
   "outputs": [],
   "source": [
    "from typing import List\n",
    "def findKthPositive(arr: List[int], k: int) -> int:\n",
    "        if k <= arr[0] - 1:\n",
    "            return k\n",
    "        # decrement k by amount of missing characters before start of algo\n",
    "        k -= arr[0] - 1\n",
    "        n = len(arr)\n",
    "        for i in range(n - 1):\n",
    "            current_missing = arr[i+1] - arr[i] - 1\n",
    "            if k <= current_missing:\n",
    "                return arr[i] + k\n",
    "            k -= current_missing\n",
    "        return arr[-1] + k"
   ]
  },
  {
   "cell_type": "code",
   "execution_count": null,
   "metadata": {},
   "outputs": [],
   "source": [
    "findKthPositive(check, 2)"
   ]
  },
  {
   "cell_type": "code",
   "execution_count": null,
   "metadata": {},
   "outputs": [],
   "source": [
    "from typing import Set\n",
    "def threeSum(nums: List[int]) -> List[List[int]]:\n",
    "        cache = set()\n",
    "        nums.sort()\n",
    "        result = set()\n",
    "        n = len(nums)\n",
    "        if n <= 2:\n",
    "            return []\n",
    "        for index, num in enumerate(nums):\n",
    "            if num not in cache:\n",
    "                cache.add(num)\n",
    "                twosum(nums, index, result)\n",
    "        return list(result)\n",
    "    \n",
    "def twosum(nums: List[int], i: int, result: Set[List[int]]):\n",
    "    left, right = i + 1, len(nums) - 1\n",
    "    if left > right: \n",
    "        return\n",
    "    while left < right:\n",
    "        total = nums[i] + nums[left] + nums[right]\n",
    "        if total == 0:\n",
    "            result.add((nums[i], nums[left], nums[right]))\n",
    "            left += 1\n",
    "            right -= 1\n",
    "        elif total < 0:\n",
    "            left += 1\n",
    "        else:\n",
    "            right -= 1"
   ]
  },
  {
   "cell_type": "code",
   "execution_count": null,
   "metadata": {},
   "outputs": [],
   "source": [
    "threeSum([1, 2, -2, 1])"
   ]
  },
  {
   "cell_type": "code",
   "execution_count": null,
   "metadata": {},
   "outputs": [],
   "source": [
    "result = set()\n",
    "nums = [-1, 0, 1]"
   ]
  },
  {
   "cell_type": "code",
   "execution_count": null,
   "metadata": {},
   "outputs": [],
   "source": [
    "twosum(nums, 0, result)"
   ]
  },
  {
   "cell_type": "code",
   "execution_count": null,
   "metadata": {},
   "outputs": [],
   "source": [
    "nums"
   ]
  },
  {
   "cell_type": "code",
   "execution_count": null,
   "metadata": {},
   "outputs": [],
   "source": [
    "result"
   ]
  },
  {
   "cell_type": "code",
   "execution_count": null,
   "metadata": {},
   "outputs": [],
   "source": [
    "\",\".isalnum()"
   ]
  },
  {
   "cell_type": "code",
   "execution_count": null,
   "metadata": {},
   "outputs": [],
   "source": [
    "def palindrome(s):\n",
    "    result = [i for i in s if i.isalnum()]\n",
    "    left = 0\n",
    "    right = len(result) - 1\n",
    "    while left < right:\n",
    "        if result[left] != result[right]:\n",
    "            return False\n",
    "        left += 1\n",
    "        right -= 1\n",
    "    return True"
   ]
  },
  {
   "cell_type": "code",
   "execution_count": null,
   "metadata": {},
   "outputs": [],
   "source": [
    "def ispalindrome(s: str) -> bool:\n",
    "        return s == s[::-1]\n",
    "    \n",
    "def validPalindrome2(s: str) -> bool:\n",
    "    \n",
    "    left = 0\n",
    "    right = len(s) - 1\n",
    "    \n",
    "    while(left<=right):\n",
    "        if s[left] == s[right]:\n",
    "            left += 1\n",
    "            right -= 1\n",
    "        else:\n",
    "            return ispalindrome(s[left:right]) or ispalindrome(s[left+1:right + 1])\n",
    "                \n",
    "    \n",
    "    return True"
   ]
  },
  {
   "cell_type": "code",
   "execution_count": null,
   "metadata": {},
   "outputs": [],
   "source": [
    "s = \"abc\"\n",
    "left = 0\n",
    "right = len(s) - 1"
   ]
  },
  {
   "cell_type": "code",
   "execution_count": null,
   "metadata": {},
   "outputs": [],
   "source": [
    "ispalindrome(s[left:right])"
   ]
  },
  {
   "cell_type": "code",
   "execution_count": null,
   "metadata": {},
   "outputs": [],
   "source": [
    "ispalindrome(s[left+1:right+1])"
   ]
  },
  {
   "cell_type": "code",
   "execution_count": null,
   "metadata": {},
   "outputs": [],
   "source": [
    "result = []\n",
    "def merge(nums1: List[int], m: int, nums2: List[int], n: int) -> None:\n",
    "    \"\"\"\n",
    "    Do not return anything, modify nums1 in-place instead.\n",
    "    \"\"\"\n",
    "    if m == 0:\n",
    "        nums1[:] = nums2[:]\n",
    "        return \n",
    "    nums_copy = nums1.copy()\n",
    "    i = j = 0\n",
    "    while i + j < len(nums_copy):\n",
    "        if (j == n) or ((i < m) & (nums_copy[i] <= nums2[j])):\n",
    "            nums1[i + j] = nums_copy[i]\n",
    "            i += 1\n",
    "        else:\n",
    "            nums1[i+j] = nums2[j]\n",
    "            j += 1\n",
    "    "
   ]
  },
  {
   "cell_type": "code",
   "execution_count": null,
   "metadata": {},
   "outputs": [],
   "source": [
    "nums1"
   ]
  },
  {
   "cell_type": "code",
   "execution_count": null,
   "metadata": {},
   "outputs": [],
   "source": [
    "merge(nums1, 0, nums2, 1)"
   ]
  },
  {
   "cell_type": "code",
   "execution_count": null,
   "metadata": {},
   "outputs": [],
   "source": [
    "nums1 = [0]\n",
    "nums2 = [1, 2, 3, 4]\n"
   ]
  },
  {
   "cell_type": "code",
   "execution_count": null,
   "metadata": {},
   "outputs": [],
   "source": [
    "def apply_permutation(P, A):\n",
    "    n = len(A)\n",
    "    count = 0\n",
    "    for i in range(n):\n",
    "        _next = i\n",
    "        while P[_next] >= 0:\n",
    "            loc = P[_next]\n",
    "            A[loc], A[i] = A[i], A[loc]\n",
    "            P[_next] = -1\n",
    "            _next = loc\n",
    "            count += 1\n",
    "            \n"
   ]
  },
  {
   "cell_type": "code",
   "execution_count": null,
   "metadata": {},
   "outputs": [],
   "source": [
    "P = [2, 0, 1, 3]\n",
    "A = ['a', 'b', 'c', 'd']\n",
    "apply_permutation(P, A)"
   ]
  },
  {
   "cell_type": "code",
   "execution_count": null,
   "metadata": {},
   "outputs": [],
   "source": [
    "A"
   ]
  },
  {
   "cell_type": "code",
   "execution_count": null,
   "metadata": {},
   "outputs": [],
   "source": [
    "def swap(A, i, j):\n",
    "    A[i], A[j] = A[j], A[i]\n",
    "\n",
    "def next_permutation(arr):\n",
    "    last_highest_index = -1\n",
    "    n = len(arr)\n",
    "    for i in range(1, n):\n",
    "        if arr[i] > arr[i - 1]:\n",
    "            last_highest_index = i\n",
    "    if last_highest_index == -1:\n",
    "        reverse(arr)\n",
    "        return\n",
    "    idx = last_highest_index\n",
    "    for i in range(last_highest_index, n):\n",
    "        # if true, update index to compare \n",
    "        if arr[i] > arr[last_highest_index - 1] and arr[i] < arr[idx]:\n",
    "            idx = i\n",
    "\n",
    "    swap(arr, last_highest_index - 1, idx)\n",
    "    print(arr)\n",
    "    arr[last_highest_index:] = sorted(arr[last_highest_index:])\n",
    "    \n",
    "def reverse(arr):\n",
    "    left, right = 0, len(arr) - 1\n",
    "    while left < right:\n",
    "        arr[left], arr[right] = arr[right], arr[left]\n",
    "        left += 1\n",
    "        right -= 1\n",
    "\n",
    "    "
   ]
  },
  {
   "cell_type": "code",
   "execution_count": null,
   "metadata": {},
   "outputs": [],
   "source": [
    "A = [4, 2, 0, 2, 3, 2, 0]\n",
    "B = [1, 2, 4, 3]"
   ]
  },
  {
   "cell_type": "code",
   "execution_count": null,
   "metadata": {},
   "outputs": [],
   "source": [
    "next_permutation(B)"
   ]
  },
  {
   "cell_type": "code",
   "execution_count": null,
   "metadata": {},
   "outputs": [],
   "source": [
    "B"
   ]
  },
  {
   "cell_type": "code",
   "execution_count": null,
   "metadata": {},
   "outputs": [],
   "source": [
    "[5, 5, 7, 4, 3, 2][2]\n",
    "    "
   ]
  },
  {
   "cell_type": "code",
   "execution_count": null,
   "metadata": {},
   "outputs": [],
   "source": [
    "x = [1, 2, 3, 4, 5, 6]\n",
    "n = len(x)"
   ]
  },
  {
   "cell_type": "code",
   "execution_count": null,
   "metadata": {},
   "outputs": [],
   "source": [
    "idx = n - 1\n",
    "for i in range(n // 2):\n",
    "    swap(x, i, idx)\n",
    "    idx -= 1"
   ]
  },
  {
   "cell_type": "code",
   "execution_count": null,
   "metadata": {},
   "outputs": [],
   "source": [
    "def next_perm2(perm):\n",
    "    inversion_point = len(perm) - 2\n",
    "    while (inversion_point >= 0 and perm[inversion_point] >= perm[inversion_point + 1]):\n",
    "        inversion_point -= 1\n",
    "    if inversion_point == -1:\n",
    "        return []\n",
    "    for i in reversed(range(inversion_point + 1, len(perm))):\n",
    "        if perm[i] > perm[inversion_point]:\n",
    "            perm[inversion_point], perm[i] = perm[i], perm[inversion_point]\n",
    "            break\n",
    "    perm[inversion_point + 1:] = reversed(perm[inversion_point + 1:])\n",
    "    return perm"
   ]
  },
  {
   "cell_type": "code",
   "execution_count": null,
   "metadata": {},
   "outputs": [],
   "source": [
    "next_perm2([1, 2, 4, 3])"
   ]
  },
  {
   "cell_type": "code",
   "execution_count": null,
   "metadata": {},
   "outputs": [],
   "source": [
    "def pascal_triangle(n):\n",
    "    result = [[1] * (i +1) for i in range(n)]\n",
    "    for i in range(n):\n",
    "        for j in range(1, i):\n",
    "            result[i][j] = result[i - 1][j-1] + result[i - 1][j]\n",
    "    return result"
   ]
  },
  {
   "cell_type": "code",
   "execution_count": null,
   "metadata": {},
   "outputs": [],
   "source": [
    "pascal_triangle(10)"
   ]
  },
  {
   "cell_type": "code",
   "execution_count": null,
   "metadata": {},
   "outputs": [],
   "source": [
    "import re\n",
    "string = r'\\bHello\\b'\n",
    "pattern = re.compile(string)\n",
    "words = ['hello', 'hellooo', 'Helo', 'Hello', \"Hellooooo\"]\n",
    "for idx, word in enumerate(words):\n",
    "    if pattern.search(word):\n",
    "        print(f\"its matched at index {idx}\")"
   ]
  },
  {
   "cell_type": "code",
   "execution_count": null,
   "metadata": {},
   "outputs": [],
   "source": [
    "print(\"d\")"
   ]
  },
  {
   "cell_type": "code",
   "execution_count": null,
   "metadata": {},
   "outputs": [],
   "source": [
    "result"
   ]
  },
  {
   "cell_type": "code",
   "execution_count": null,
   "metadata": {},
   "outputs": [],
   "source": [
    "def convert_to_int(num):\n",
    "    return ord(num) - ord(\"0\")\n",
    "def add_strings(num1, num2):\n",
    "    # assume num2 has more digits than num 1\n",
    "    if len(num1) >= len(num2):\n",
    "        num1, num2 = num2, num1\n",
    "    num2 = num2[::-1]\n",
    "    num1 = num1[::-1]\n",
    "    carry = 0\n",
    "    n = len(num2)\n",
    "    i = 0\n",
    "    result = [0] * n\n",
    "    while i < n:\n",
    "        if i >= len(num1):\n",
    "            result[i] = convert_to_int(num2[i]) + carry\n",
    "        else:\n",
    "            result[i] = convert_to_int(num2[i]) + convert_to_int(num1[i]) + carry\n",
    "        if result[i] >= 10:\n",
    "            result[i] -= 10\n",
    "            carry = 1\n",
    "        else:\n",
    "            carry = 0\n",
    "        i += 1\n",
    "\n",
    "    return list(map(str, result[::-1]))\n",
    "\n"
   ]
  },
  {
   "cell_type": "markdown",
   "metadata": {},
   "source": [
    "# Linked List"
   ]
  },
  {
   "cell_type": "code",
   "execution_count": null,
   "metadata": {},
   "outputs": [],
   "source": [
    "class NodeList:\n",
    "    def __init__(self, val, next=None):\n",
    "        self.val = val\n",
    "        self.next = next\n",
    "    \n",
    "    def __repr__(self):\n",
    "        return f'NodeList(val={self.val}, next={self.next}'\n",
    "\n"
   ]
  },
  {
   "cell_type": "code",
   "execution_count": null,
   "metadata": {},
   "outputs": [],
   "source": [
    "s = set()\n",
    "s.add(NodeList(0))"
   ]
  },
  {
   "cell_type": "code",
   "execution_count": null,
   "metadata": {},
   "outputs": [],
   "source": [
    "def merge_two_sorted_linked_lists(l1: NodeList, l2: NodeList):\n",
    "    s = NodeList(0)\n",
    "    result = s\n",
    "    while l1 and l2:\n",
    "        if l1.val < l2.val:\n",
    "            s.next = l1\n",
    "            l1 = l1.next\n",
    "        else:\n",
    "            s.next = l2\n",
    "            l2 = l2.next\n",
    "        s = s.next\n",
    "    # now end of linked list is reached\n",
    "    # but one list can be shorter than other\n",
    "    # hence add remaining\n",
    "    s.next = l1 or l2\n",
    "    return result.next\n"
   ]
  },
  {
   "cell_type": "code",
   "execution_count": null,
   "metadata": {},
   "outputs": [],
   "source": [
    "x = NodeList(10, NodeList(50, NodeList(70)))\n",
    "y = NodeList(20, NodeList(30, NodeList(40)))"
   ]
  },
  {
   "cell_type": "code",
   "execution_count": null,
   "metadata": {},
   "outputs": [],
   "source": [
    "merge_two_sorted_linked_lists(x, y)"
   ]
  },
  {
   "cell_type": "code",
   "execution_count": null,
   "metadata": {},
   "outputs": [],
   "source": [
    "def reverse_sublist_inside_linked_list(l1: NodeList, start, end):\n",
    "    # input: start - start index\n",
    "    #        end   - end index\n",
    "    dummy = nbefore = NodeList(0, l1)\n",
    "    for _ in range(1, start):\n",
    "        nbefore = nbefore.next\n",
    "    \n",
    "    n = nbefore.next\n",
    "    for _ in range(end - start):\n",
    "        node_to_be_extracted = n.next\n",
    "        n.next = node_to_be_extracted.next\n",
    "        node_to_be_extracted.next = nbefore.next\n",
    "        nbefore.next = node_to_be_extracted\n",
    "    \n",
    "    return dummy.next\n",
    "    \n",
    "    \n",
    "\n"
   ]
  },
  {
   "cell_type": "code",
   "execution_count": null,
   "metadata": {},
   "outputs": [],
   "source": [
    "x = NodeList(10, NodeList(50, NodeList(60, NodeList(72, NodeList(80)))))"
   ]
  },
  {
   "cell_type": "code",
   "execution_count": null,
   "metadata": {},
   "outputs": [],
   "source": [
    "reverse_sublist_inside_linked_list(x, 2, 4)"
   ]
  },
  {
   "cell_type": "code",
   "execution_count": null,
   "metadata": {},
   "outputs": [],
   "source": [
    "x"
   ]
  },
  {
   "cell_type": "code",
   "execution_count": null,
   "metadata": {},
   "outputs": [],
   "source": [
    "x"
   ]
  },
  {
   "cell_type": "code",
   "execution_count": null,
   "metadata": {},
   "outputs": [],
   "source": [
    "node_to_be_extracted"
   ]
  },
  {
   "cell_type": "code",
   "execution_count": null,
   "metadata": {},
   "outputs": [],
   "source": [
    "def make_examples(getx: bool, gety: bool):\n",
    "    x = NodeList(4, NodeList(1, NodeList(8, NodeList(4, NodeList(5)))))\n",
    "    y = NodeList(5, NodeList(6, NodeList(1)))\n",
    "    n = y\n",
    "    # stops at 1 element\n",
    "    while n.next is not None:\n",
    "        n = n.next\n",
    "    n2 = x\n",
    "    count = 0\n",
    "    while n2:\n",
    "        n2 = n2.next\n",
    "        count += 1\n",
    "        if count == 2:\n",
    "            break\n",
    "    n.next = n2\n",
    "    if getx and not gety:\n",
    "        return x\n",
    "    elif gety and not getx:\n",
    "        return y\n",
    "    elif getx and gety:\n",
    "        return getx,gety\n",
    "    else:\n",
    "        raise LookupError(\"invalid value chosen\")"
   ]
  },
  {
   "cell_type": "code",
   "execution_count": null,
   "metadata": {},
   "outputs": [],
   "source": [
    "x"
   ]
  },
  {
   "cell_type": "code",
   "execution_count": null,
   "metadata": {},
   "outputs": [],
   "source": [
    "y"
   ]
  },
  {
   "cell_type": "code",
   "execution_count": null,
   "metadata": {},
   "outputs": [],
   "source": [
    "def size(l1: NodeList):\n",
    "    n = l1\n",
    "    count = 0\n",
    "    while n:\n",
    "        count += 1\n",
    "        n = n.next\n",
    "    return count\n",
    "def intersection(l1: NodeList, l2: NodeList):\n",
    "    size1, size2 = size(l1), size(l2)\n",
    "    if size1 > size2:\n",
    "        l2, l1 = l1, l2\n",
    "        larger = size1\n",
    "        smaller = size2\n",
    "    else:\n",
    "        larger = size2\n",
    "        smaller = size1\n",
    "    \n",
    "    for i in range(larger-smaller):\n",
    "        l2 = l2.next\n",
    "    while l1 and l2 and l2 is not l1:\n",
    "        l1 = l1.next\n",
    "        l2 = l2.next\n",
    "    \n",
    "    return l1\n",
    "\n",
    "def intersectionbf(l1: NodeList, l2: NodeList):\n",
    "    # brute force solution \n",
    "    cache = set()\n",
    "    while l1:\n",
    "        cache.add(l1)\n",
    "        l1 = l1.next\n",
    "    while l2:\n",
    "        if l2 in cache:\n",
    "            return l2\n",
    "        l2 = l2.next\n",
    "    return None\n",
    "    "
   ]
  },
  {
   "cell_type": "code",
   "execution_count": null,
   "metadata": {},
   "outputs": [],
   "source": [
    "intersection(x, y)"
   ]
  },
  {
   "cell_type": "code",
   "execution_count": null,
   "metadata": {},
   "outputs": [],
   "source": [
    "l1, l2"
   ]
  },
  {
   "cell_type": "code",
   "execution_count": null,
   "metadata": {},
   "outputs": [],
   "source": [
    "intersectionbf(x, y)"
   ]
  },
  {
   "cell_type": "code",
   "execution_count": null,
   "metadata": {},
   "outputs": [],
   "source": [
    "def has_cyclebf(l1: NodeList):\n",
    "    s = set()\n",
    "    while l1:\n",
    "        if l1 in s:\n",
    "            return True\n",
    "        s.add(l1)\n",
    "        l1 = l1.next"
   ]
  },
  {
   "cell_type": "code",
   "execution_count": null,
   "metadata": {},
   "outputs": [],
   "source": [
    "def reversepractice(head: NodeList):\n",
    "        prev_node = None\n",
    "        next_node = None\n",
    "        curr_node = head\n",
    "        result = head\n",
    "        while curr_node:\n",
    "            # save the next reference of current node\n",
    "            next_node = curr_node.next\n",
    "            # set next reference of current node to previous node\n",
    "            curr_node.next = prev_node\n",
    "            # move to next node, previous is now current\n",
    "            prev_node = curr_node\n",
    "            curr_node = next_node\n",
    "        head = prev_node\n",
    "        return head"
   ]
  },
  {
   "cell_type": "code",
   "execution_count": null,
   "metadata": {},
   "outputs": [],
   "source": [
    "x = make_examples(getx=True, gety=False)"
   ]
  },
  {
   "cell_type": "code",
   "execution_count": null,
   "metadata": {},
   "outputs": [],
   "source": [
    "head = NodeList(1, NodeList(1, NodeList(2, NodeList(1))))\n",
    "import copy\n",
    "result = copy.deepcopy(head)\n"
   ]
  },
  {
   "cell_type": "code",
   "execution_count": null,
   "metadata": {},
   "outputs": [],
   "source": [
    "rev = reversepractice(result)"
   ]
  },
  {
   "cell_type": "code",
   "execution_count": null,
   "metadata": {},
   "outputs": [],
   "source": [
    "head"
   ]
  },
  {
   "cell_type": "code",
   "execution_count": null,
   "metadata": {},
   "outputs": [],
   "source": [
    "rev"
   ]
  },
  {
   "cell_type": "code",
   "execution_count": null,
   "metadata": {},
   "outputs": [],
   "source": [
    "def isPalindrome(head: Optional[NodeList]) -> bool:\n",
    "        result = copy.deepcopy(head)\n",
    "        rev = reversepractice(result)\n",
    "        while rev and head:\n",
    "            if head.data != rev.data:\n",
    "                return False\n",
    "            rev = rev.next\n",
    "            head = head.next\n",
    "        return True"
   ]
  },
  {
   "cell_type": "code",
   "execution_count": null,
   "metadata": {},
   "outputs": [],
   "source": [
    "isPalindrome(head)"
   ]
  },
  {
   "cell_type": "code",
   "execution_count": null,
   "metadata": {},
   "outputs": [],
   "source": [
    "def has_cycle(l1: NodeList):\n",
    "    if l1 is None:\n",
    "        return False\n",
    "    slow = l1\n",
    "    fast = l1.next\n",
    "    while slow is not fast:\n",
    "        if fast is None or fast.next is None:\n",
    "            return False\n",
    "        slow = slow.next\n",
    "        fast = fast.next.next\n",
    "    return True"
   ]
  },
  {
   "cell_type": "code",
   "execution_count": null,
   "metadata": {},
   "outputs": [],
   "source": [
    "def add_digits(l1: NodeList, l2: NodeList):\n",
    "    carry = 0\n",
    "    final = NodeList(0)\n",
    "    dummy = final\n",
    "    while l1 or l2 or carry:\n",
    "        val1 = l1.val if l1 else 0\n",
    "        val2 = l2.val if l2 else 0\n",
    "        result = val1 + val2 + carry\n",
    "        if result >= 10:\n",
    "            result -= 10\n",
    "            carry = 1\n",
    "        else:\n",
    "            carry = 0\n",
    "        final.next = NodeList(result)\n",
    "        final = final.next\n",
    "        \n",
    "        l1 = l1.next if l1 else None\n",
    "        l2 = l2.next if l2 else None\n",
    "    return dummy.next\n",
    "\n"
   ]
  },
  {
   "cell_type": "markdown",
   "metadata": {},
   "source": [
    "## Binary Search Trees"
   ]
  },
  {
   "cell_type": "code",
   "execution_count": 605,
   "metadata": {},
   "outputs": [],
   "source": [
    "class TreeNode:\n",
    "    def __init__(self, val=0, left=None, right=None):\n",
    "        self.val = val\n",
    "        self.left = left\n",
    "        self.right = right\n",
    "    \n",
    "    def __repr__(self):\n",
    "        return f\"TreeNode(val={self.val}, left={self.left}, right={self.right}\"\n",
    "\n",
    "class Stack:\n",
    "    def __init__(self):\n",
    "        self.data = []\n",
    "\n",
    "    def empty(self):\n",
    "        return self.data == []\n",
    "    \n",
    "    def __repr__(self):\n",
    "        return repr(self.data)\n",
    "    \n",
    "    def pop(self):\n",
    "        return self.data.pop()\n",
    "    \n",
    "    def push(self, item):\n",
    "        self.data.append(item)\n",
    "        \n",
    "        \n",
    "    "
   ]
  },
  {
   "cell_type": "code",
   "execution_count": 34,
   "metadata": {},
   "outputs": [
    {
     "data": {
      "text/plain": [
       "<bound method Stack.empty of <__main__.Stack object at 0x11b8c3a90>>"
      ]
     },
     "execution_count": 34,
     "metadata": {},
     "output_type": "execute_result"
    }
   ],
   "source": [
    "                                         \n",
    "    s = Stack()\n",
    "    s.empty"
   ]
  },
  {
   "cell_type": "code",
   "execution_count": 35,
   "metadata": {},
   "outputs": [],
   "source": [
    "\n",
    "def search_bst(tree, key):\n",
    "    return (tree if not tree or tree.val == key else search_bst(tree.left, key) \n",
    "    if key < tree.val else search_bst(tree.right, key))\n",
    "    "
   ]
  },
  {
   "cell_type": "code",
   "execution_count": 36,
   "metadata": {},
   "outputs": [],
   "source": [
    "order = \"worldabcefghijkmnpqstuvxyz\"\n",
    "def alien_dictionary(words, order):\n",
    "    cache = {key: i for i, key in enumerate(order)}\n",
    "    result = [-sys.maxsize]\n",
    "    for k in words:\n",
    "        res = sum(cache[x] for x in k)\n",
    "        result.append(res)\n",
    "        \n",
    "            \n",
    "\n",
    "words = [\"word\", \"world\", \"row\"]\n",
    "\n",
    "cache = {key: i for i, key in enumerate(order)}"
   ]
  },
  {
   "cell_type": "code",
   "execution_count": 37,
   "metadata": {},
   "outputs": [
    {
     "data": {
      "text/plain": [
       "[0, 1, 2, 4]"
      ]
     },
     "execution_count": 37,
     "metadata": {},
     "output_type": "execute_result"
    }
   ],
   "source": [
    "list(map(lambda x: cache.get(x), list(\"word\")))"
   ]
  },
  {
   "cell_type": "code",
   "execution_count": 38,
   "metadata": {},
   "outputs": [],
   "source": [
    "def inorder(tree: TreeNode):\n",
    "    return inorder(tree.left) + [tree.val] + inorder(tree.right) if tree else []\n",
    "\n",
    "def preorder(tree: TreeNode):\n",
    "    return [tree.val] + preorder(tree.left) + preorder(tree.right) if tree else []\n",
    "\n",
    "def postorder(tree: TreeNode):\n",
    "    return postorder(tree.left) + postorder(tree.right) + [tree.val] if tree else []"
   ]
  },
  {
   "cell_type": "code",
   "execution_count": 39,
   "metadata": {},
   "outputs": [],
   "source": [
    "test = TreeNode(10)\n",
    "test.left = TreeNode(5)\n",
    "test.right = TreeNode(15)\n",
    "test.right.left = TreeNode(14)\n",
    "test.right.right = TreeNode(16)\n",
    "test.left.left = TreeNode(2)\n",
    "test.left.right = TreeNode(7)"
   ]
  },
  {
   "cell_type": "code",
   "execution_count": 40,
   "metadata": {},
   "outputs": [
    {
     "data": {
      "text/plain": [
       "[2, 5, 7, 10, 14, 15, 16]"
      ]
     },
     "execution_count": 40,
     "metadata": {},
     "output_type": "execute_result"
    }
   ],
   "source": [
    "inorder(test)"
   ]
  },
  {
   "cell_type": "code",
   "execution_count": 41,
   "metadata": {},
   "outputs": [
    {
     "data": {
      "text/plain": [
       "[10, 5, 2, 7, 15, 14, 16]"
      ]
     },
     "execution_count": 41,
     "metadata": {},
     "output_type": "execute_result"
    }
   ],
   "source": [
    "preorder(test)"
   ]
  },
  {
   "cell_type": "code",
   "execution_count": 42,
   "metadata": {},
   "outputs": [
    {
     "data": {
      "text/plain": [
       "9223372036854775807"
      ]
     },
     "execution_count": 42,
     "metadata": {},
     "output_type": "execute_result"
    }
   ],
   "source": [
    "sys.maxsize"
   ]
  },
  {
   "cell_type": "code",
   "execution_count": 43,
   "metadata": {},
   "outputs": [],
   "source": [
    "def isValidBST(tree: TreeNode):\n",
    "    if not tree:\n",
    "        return True\n",
    "    s = Stack()\n",
    "    min_val = -sys.maxsize\n",
    "    while not s.empty() or tree is not None:\n",
    "        while tree:\n",
    "            s.push(tree)\n",
    "            tree = tree.left\n",
    "        tree = s.pop()\n",
    "        if tree.val <= min_val:\n",
    "            return False\n",
    "        min_val = tree.val\n",
    "        tree = tree.right\n",
    "    return True"
   ]
  },
  {
   "cell_type": "code",
   "execution_count": 44,
   "metadata": {},
   "outputs": [],
   "source": [
    "test2 = TreeNode(2)\n",
    "test2.left = TreeNode(1)\n",
    "test2.right = TreeNode(5)\n",
    "test2.right.left = TreeNode(4)\n",
    "test2.right.right = TreeNode(8)"
   ]
  },
  {
   "cell_type": "code",
   "execution_count": 45,
   "metadata": {},
   "outputs": [
    {
     "data": {
      "text/plain": [
       "True"
      ]
     },
     "execution_count": 45,
     "metadata": {},
     "output_type": "execute_result"
    }
   ],
   "source": [
    "isValidBST(test)"
   ]
  },
  {
   "cell_type": "code",
   "execution_count": null,
   "metadata": {},
   "outputs": [],
   "source": [
    "def btheight(root):\n",
    "    if not root:\n",
    "        return 0\n",
    "    left_height = btheight(root.left)\n",
    "    right_height = btheight(root.right)\n",
    "    return max(left_height, right_height) + 1"
   ]
  },
  {
   "cell_type": "code",
   "execution_count": null,
   "metadata": {},
   "outputs": [],
   "source": [
    "def longestpath(root: TreeNode):\n",
    "    if not root:\n",
    "        return 0\n",
    "    longest_path_left_subtree = longestpath(root.left)\n",
    "    longest_path_right_subtree = longestpath(root.right)\n",
    "    longestpath = longest_path_left_subtree + longest_path_right_subtree + 1\n",
    "    longest_path_no_root = max(longest_path_left_subtree, longest_path_right_subtree)\n",
    "    return max(longest_path_root, longest_path_no_root)"
   ]
  },
  {
   "cell_type": "code",
   "execution_count": null,
   "metadata": {},
   "outputs": [],
   "source": [
    "longestpath(test)"
   ]
  },
  {
   "cell_type": "code",
   "execution_count": 47,
   "metadata": {},
   "outputs": [],
   "source": [
    "from collections import deque\n",
    "from typing import Optional, List\n",
    "def average(elements):\n",
    "    return sum((element.val for element in elements)) / len(elements)\n",
    "\n",
    "class Solution:\n",
    "    def averageOfLevels(self, root: Optional[TreeNode]) -> List[float]:\n",
    "        return self.bfs(root)\n",
    "        \n",
    "    def bfs(self, root):\n",
    "        queue = deque([root])\n",
    "        level_nodes = []\n",
    "        avgs = [root.val]\n",
    "        while len(queue):\n",
    "            explore = queue.popleft()\n",
    "            if explore.left:\n",
    "                level_nodes.append(explore.left)\n",
    "            if explore.right:\n",
    "                level_nodes.append(explore.right)\n",
    "            if not len(queue) and len(level_nodes):\n",
    "                avgs.append(average(level_nodes))\n",
    "                queue.extend(level_nodes)\n",
    "                level_nodes.clear()\n",
    "            \n",
    "        \n",
    "        return avgs"
   ]
  },
  {
   "cell_type": "code",
   "execution_count": 57,
   "metadata": {},
   "outputs": [],
   "source": [
    "def count_nodes_in_bt(root: TreeNode):\n",
    "    if not root: \n",
    "        return 0\n",
    "    left_count = count_nodes_in_bt(root.left)\n",
    "    right_count = count_nodes_in_bt(root.right)\n",
    "    return left_count + 1 + right_count\n",
    "\n",
    "def count_nodes_in_bt_iterator_inorder(root: TreeNode):\n",
    "    if not root:\n",
    "        return 0\n",
    "    \n",
    "    s = Stack()\n",
    "    count = 0\n",
    "    while not s.empty() or root is not None:\n",
    "        while root:\n",
    "            s.push(root)\n",
    "            root = root.left\n",
    "        root = s.pop()\n",
    "        if root:\n",
    "            count += 1\n",
    "        root = root.right\n",
    "    return count\n",
    "\n",
    "def count_nodes_in_bt_bfs(root: TreeNode):\n",
    "    if not root:\n",
    "        return 0\n",
    "    \n",
    "    q = deque([root])\n",
    "    count = 0\n",
    "    while q:\n",
    "        node = q.popleft()\n",
    "        if node:\n",
    "            count += 1\n",
    "        if node.left:\n",
    "            q.append(node.left)\n",
    "        if node.right:\n",
    "            q.append(node.right)\n",
    "    return count\n",
    "    "
   ]
  },
  {
   "cell_type": "code",
   "execution_count": 58,
   "metadata": {},
   "outputs": [],
   "source": [
    "root = TreeNode(22, left=TreeNode(3, left=TreeNode(44)), right=TreeNode(5))"
   ]
  },
  {
   "cell_type": "code",
   "execution_count": 60,
   "metadata": {},
   "outputs": [
    {
     "data": {
      "text/plain": [
       "4"
      ]
     },
     "execution_count": 60,
     "metadata": {},
     "output_type": "execute_result"
    }
   ],
   "source": [
    "count_nodes_in_bt(root)"
   ]
  },
  {
   "cell_type": "code",
   "execution_count": 62,
   "metadata": {},
   "outputs": [
    {
     "data": {
      "text/plain": [
       "4"
      ]
     },
     "execution_count": 62,
     "metadata": {},
     "output_type": "execute_result"
    }
   ],
   "source": [
    "count_nodes_in_bt_iterator_inorder(root)"
   ]
  },
  {
   "cell_type": "code",
   "execution_count": 63,
   "metadata": {},
   "outputs": [
    {
     "data": {
      "text/plain": [
       "4"
      ]
     },
     "execution_count": 63,
     "metadata": {},
     "output_type": "execute_result"
    }
   ],
   "source": [
    "count_nodes_in_bt_bfs(root)"
   ]
  },
  {
   "cell_type": "code",
   "execution_count": 64,
   "metadata": {},
   "outputs": [],
   "source": [
    "def verticalOrderTraversal(root: TreeNode):\n",
    "    q = deque()\n",
    "    q.append((0, root))\n",
    "    cache = defaultdict(set)\n",
    "    cache[0].add(root.val)\n",
    "    \n",
    "    while q:\n",
    "        hd, node = q.popleft()\n",
    "        if node.left:\n",
    "            cache[hd - 1].add(node.left.val)\n",
    "            q.append((hd - 1, node.left))\n",
    "        if node.right:\n",
    "            cache[hd + 1].add(node.right.val)\n",
    "            q.append((hd + 1, node.right))\n",
    "    return [cache[key] for key in sorted(cache)]\n"
   ]
  },
  {
   "cell_type": "code",
   "execution_count": 65,
   "metadata": {},
   "outputs": [],
   "source": [
    "from collections import defaultdict"
   ]
  },
  {
   "cell_type": "code",
   "execution_count": 66,
   "metadata": {},
   "outputs": [],
   "source": [
    "d = defaultdict(set)"
   ]
  },
  {
   "cell_type": "code",
   "execution_count": 67,
   "metadata": {},
   "outputs": [],
   "source": [
    "root = TreeNode(3, left=TreeNode(9), right=TreeNode(20, left=TreeNode(15), right=TreeNode(7)))"
   ]
  },
  {
   "cell_type": "code",
   "execution_count": 68,
   "metadata": {},
   "outputs": [],
   "source": [
    "result = verticalOrderTraversal(root)"
   ]
  },
  {
   "cell_type": "code",
   "execution_count": 157,
   "metadata": {},
   "outputs": [
    {
     "ename": "SyntaxError",
     "evalue": "invalid syntax (2083412211.py, line 1)",
     "output_type": "error",
     "traceback": [
      "\u001b[0;36m  File \u001b[0;32m\"/var/folders/vh/klwv059x6055j90z43f5pffw0000gn/T/ipykernel_76955/2083412211.py\"\u001b[0;36m, line \u001b[0;32m1\u001b[0m\n\u001b[0;31m    [x ** 2 for x in range(3) if x == 2 else x**3]\u001b[0m\n\u001b[0m                                        ^\u001b[0m\n\u001b[0;31mSyntaxError\u001b[0m\u001b[0;31m:\u001b[0m invalid syntax\n"
     ]
    }
   ],
   "source": [
    "[x ** 2 for x in range(3) if x == 2 else x**3]"
   ]
  },
  {
   "cell_type": "code",
   "execution_count": 343,
   "metadata": {},
   "outputs": [],
   "source": [
    "def zigzagLevelOrder(root: Optional[TreeNode]) -> List[List[int]]:\n",
    "        if not root:\n",
    "            return None\n",
    "        s1 = Stack()\n",
    "        s2 = Stack()\n",
    "        s1.push((0, root))\n",
    "        result = defaultdict(list)\n",
    "        while not s1.empty() or not s2.empty():\n",
    "            while not s1.empty():\n",
    "                l, p = s1.pop()\n",
    "                result[l].append(p.val)\n",
    "                if p.left:\n",
    "                    s2.push((l + 1, p.left))\n",
    "                if p.right:\n",
    "                    s2.push((l + 1, p.right))\n",
    "            while not s2.empty():\n",
    "                l, p = s2.pop()\n",
    "                result[l].append(p.val)\n",
    "                if p.right:\n",
    "                    s1.push((l + 1, p.right))\n",
    "                if p.left:\n",
    "                    s1.push((l + 1, p.left))\n",
    "            \n",
    "            \n",
    "        \n",
    "        return result\n",
    "    "
   ]
  },
  {
   "cell_type": "markdown",
   "metadata": {},
   "source": []
  },
  {
   "cell_type": "code",
   "execution_count": 344,
   "metadata": {},
   "outputs": [],
   "source": [
    "root = TreeNode(0, left=TreeNode(2, left=TreeNode(1, left=TreeNode(5), right=TreeNode(1))))\n",
    "root.right = TreeNode(4, left=TreeNode(3, right=TreeNode(6)), right=TreeNode(-1, right=TreeNode(8)))"
   ]
  },
  {
   "cell_type": "code",
   "execution_count": 345,
   "metadata": {},
   "outputs": [
    {
     "name": "stdout",
     "output_type": "stream",
     "text": [
      "0\n",
      "4\n",
      "2\n",
      "1\n",
      "3\n",
      "-1\n",
      "8\n",
      "6\n",
      "1\n",
      "5\n"
     ]
    }
   ],
   "source": [
    "\n",
    "result= zigzagLevelOrder(root)"
   ]
  },
  {
   "cell_type": "code",
   "execution_count": 349,
   "metadata": {},
   "outputs": [
    {
     "data": {
      "text/plain": [
       "[[0], [4, 2], [1, 3, -1], [8, 6, 1, 5]]"
      ]
     },
     "execution_count": 349,
     "metadata": {},
     "output_type": "execute_result"
    }
   ],
   "source": [
    "list(result.values())\n"
   ]
  },
  {
   "cell_type": "code",
   "execution_count": 320,
   "metadata": {},
   "outputs": [
    {
     "data": {
      "text/plain": [
       "1"
      ]
     },
     "execution_count": 320,
     "metadata": {},
     "output_type": "execute_result"
    }
   ],
   "source": [
    "val"
   ]
  },
  {
   "cell_type": "code",
   "execution_count": 322,
   "metadata": {},
   "outputs": [
    {
     "data": {
      "text/plain": [
       "[0]"
      ]
     },
     "execution_count": 322,
     "metadata": {},
     "output_type": "execute_result"
    }
   ],
   "source": [
    "result[l]"
   ]
  },
  {
   "cell_type": "code",
   "execution_count": 359,
   "metadata": {},
   "outputs": [],
   "source": [
    "root = TreeNode('A', left=TreeNode('B', left=TreeNode('D', left=TreeNode('h'), right=TreeNode('i', \n",
    "left=TreeNode('m'), right=TreeNode('n'))), right=TreeNode(\"E\", left=TreeNode('r'), right=TreeNode(\"s\"))), right=TreeNode(\"C\"))\n"
   ]
  },
  {
   "cell_type": "code",
   "execution_count": 427,
   "metadata": {},
   "outputs": [],
   "source": [
    "a = TreeNode(\"A\")\n",
    "b = TreeNode(\"b\")\n",
    "c = TreeNode(\"c\")\n",
    "a.left = b\n",
    "a.right = c\n",
    "d = TreeNode(\"D\")\n",
    "e = TreeNode(\"e\")\n",
    "b.left = d\n",
    "b.right = e\n",
    "h = TreeNode('h')\n",
    "i = TreeNode('i')\n",
    "d.left = h\n",
    "d.right = i\n",
    "\n",
    "r = TreeNode(\"r\")\n",
    "s = TreeNode(\"s\")\n",
    "e.left = r\n",
    "e.right = s\n",
    "\n",
    "m = TreeNode('m')\n",
    "n = TreeNode('n')\n",
    "i.left = m\n",
    "i.right = n\n",
    "\n",
    "root = a"
   ]
  },
  {
   "cell_type": "code",
   "execution_count": 428,
   "metadata": {},
   "outputs": [
    {
     "data": {
      "text/plain": [
       "['A', 'b', 'D', 'h', 'i', 'm', 'n', 'e', 'r', 's', 'c']"
      ]
     },
     "execution_count": 428,
     "metadata": {},
     "output_type": "execute_result"
    }
   ],
   "source": [
    "preorder(root)"
   ]
  },
  {
   "cell_type": "code",
   "execution_count": null,
   "metadata": {},
   "outputs": [],
   "source": []
  },
  {
   "cell_type": "code",
   "execution_count": 431,
   "metadata": {},
   "outputs": [],
   "source": [
    "def lca(root, p, q):\n",
    "    # Stack for tree traversal\n",
    "    stack = Stack()\n",
    "    stack.push(root)\n",
    "\n",
    "    # Dictionary for parent pointers\n",
    "    parent = {root: None}\n",
    "\n",
    "    # Iterate until we find both the nodes p and q\n",
    "    while p not in parent or q not in parent:\n",
    "\n",
    "        node = stack.pop()\n",
    "\n",
    "        # While traversing the tree, keep saving the parent pointers.\n",
    "        if node.left:\n",
    "            parent[node.left] = node\n",
    "            stack.push(node.left)\n",
    "        if node.right:\n",
    "            parent[node.right] = node\n",
    "            stack.push(node.right)\n",
    "\n",
    "    # Ancestors set() for node p.\n",
    "    ancestors = set()\n",
    "\n",
    "    # Process all ancestors for node p using parent pointers.\n",
    "    while p:\n",
    "        ancestors.add(p)\n",
    "        p = parent[p]\n",
    "\n",
    "    # The first ancestor of q which appears in\n",
    "    # p's ancestor set() is their lowest common ancestor.\n",
    "    while q not in ancestors:\n",
    "        q = parent[q]\n",
    "    return q"
   ]
  },
  {
   "cell_type": "markdown",
   "metadata": {},
   "source": [
    "## Graph"
   ]
  },
  {
   "cell_type": "code",
   "execution_count": 466,
   "metadata": {},
   "outputs": [],
   "source": [
    "class Graph: \n",
    "    def __init__(self, val=0, neighbors = []):\n",
    "        self.val = val\n",
    "        self.neighbors = neighbors"
   ]
  },
  {
   "cell_type": "code",
   "execution_count": 485,
   "metadata": {},
   "outputs": [],
   "source": [
    "def iscyclic(graph: List[List]) -> bool:\n",
    "    for v in range(len(graph)):\n",
    "        visited = {}\n",
    "        if v not in visited:\n",
    "            s = Stack()\n",
    "            s.push(v)\n",
    "            visited[v] = True\n",
    "            while not s.empty():\n",
    "                v = s.pop()\n",
    "                for neighbor in graph[v]:\n",
    "                    if neighbor not in visited:\n",
    "                        s.push(neighbor)\n",
    "                        visited[neighbor] = True\n",
    "                    elif visited[neighbor] == True:\n",
    "                        return True\n",
    "    return False\n"
   ]
  },
  {
   "cell_type": "code",
   "execution_count": 487,
   "metadata": {},
   "outputs": [
    {
     "data": {
      "text/plain": [
       "True"
      ]
     },
     "execution_count": 487,
     "metadata": {},
     "output_type": "execute_result"
    }
   ],
   "source": [
    "graph = [[1, 4], [2], [3], [4], []]\n",
    "iscyclic(graph)"
   ]
  },
  {
   "cell_type": "code",
   "execution_count": 482,
   "metadata": {},
   "outputs": [
    {
     "data": {
      "text/plain": [
       "4"
      ]
     },
     "execution_count": 482,
     "metadata": {},
     "output_type": "execute_result"
    }
   ],
   "source": []
  },
  {
   "cell_type": "code",
   "execution_count": 502,
   "metadata": {},
   "outputs": [],
   "source": [
    "class GraphVertex:\n",
    "    white, gray, black = range(3)\n",
    "    def __init__(self, val=0, neighbors=[]):\n",
    "        self.val = val\n",
    "        self.color = GraphVertex.white\n",
    "        self.neighbors = neighbors\n",
    "    \n",
    "    def __repr__(self):\n",
    "        return f\"Vertex(color={self.color}, neighbor={self.neighbors}\""
   ]
  },
  {
   "cell_type": "code",
   "execution_count": 503,
   "metadata": {},
   "outputs": [],
   "source": [
    "def is_deadlocked(g: List[GraphVertex]):\n",
    "        def has_cycle(curr: GraphVertex):\n",
    "            if curr.color == GraphVertex.gray:\n",
    "                return True\n",
    "            curr.color = GraphVertex.gray\n",
    "            if any(n.color != GraphVertex.black and has_cycle(n) for n in curr.neighbors):\n",
    "                return True\n",
    "            curr.color = GraphVertex.black\n",
    "            return False\n",
    "        return any(vertex.color == GraphVertex.white and has_cycle(vertex)\n",
    "                  for vertex in g)"
   ]
  },
  {
   "cell_type": "code",
   "execution_count": 506,
   "metadata": {},
   "outputs": [],
   "source": [
    "prereqs = [[0, 1], [0, 2], [1, 3], [1, 4], [3, 4]]\n",
    "def canFinish(self, numCourses: int, prerequisites: List[List[int]]) -> bool:\n",
    "        # create a graph\n",
    "        course_map = {i: [] for i in range(numCourses)}\n",
    "        graph = []\n",
    "        for course, prereq in prerequisites:\n",
    "            course_map[course].append(prereq)\n",
    "        visited = {}\n",
    "        def dfs(crs):\n",
    "            if crs in visited:\n",
    "                return False\n",
    "            if course_map[crs] == []:\n",
    "                return True\n",
    "            visited[crs] = True\n",
    "            for prereq in course_map[crs]:\n",
    "                if not dfs(prereq): return False\n",
    "            del visited[crs]\n",
    "            course_map[crs] = []\n",
    "            return True\n",
    "        \n",
    "        for crs in range(numCourses):\n",
    "            if not dfs(crs): return False\n",
    "        return True"
   ]
  },
  {
   "cell_type": "code",
   "execution_count": 507,
   "metadata": {},
   "outputs": [],
   "source": [
    "def is_cyclic(graph: List[List[int]]):\n",
    "    n = len(graph)\n",
    "    visited = [False] * n\n",
    "    for v in range(n):\n",
    "        if has_cycle(v, graph, visited):\n",
    "            return True\n",
    "    return False\n",
    "\n",
    "def has_cycle(curr_node: int, graph: List[List[int]], visited: List[bool]):\n",
    "    if visited[curr_node]:\n",
    "        return True\n",
    "    visited[curr_node] = True\n",
    "    # start depth first search\n",
    "    for neighbor in graph[curr_node]:\n",
    "        if has_cycle(neighbor, graph, visited):\n",
    "            return True\n",
    "    # now we found a node with no neighbor\n",
    "    # so backtrack\n",
    "    visited[curr_node] = False\n",
    "    return False\n"
   ]
  },
  {
   "cell_type": "code",
   "execution_count": 509,
   "metadata": {},
   "outputs": [
    {
     "data": {
      "text/plain": [
       "True"
      ]
     },
     "execution_count": 509,
     "metadata": {},
     "output_type": "execute_result"
    }
   ],
   "source": [
    "graph = [[1], [], [1, 3], [4], [2]]\n",
    "is_cyclic(graph)"
   ]
  },
  {
   "cell_type": "code",
   "execution_count": 510,
   "metadata": {},
   "outputs": [],
   "source": [
    "q = deque()\n",
    "q.append((2, 3))"
   ]
  },
  {
   "cell_type": "markdown",
   "metadata": {},
   "source": []
  },
  {
   "cell_type": "code",
   "execution_count": 512,
   "metadata": {},
   "outputs": [
    {
     "data": {
      "text/plain": [
       "(2, 3)"
      ]
     },
     "execution_count": 512,
     "metadata": {},
     "output_type": "execute_result"
    }
   ],
   "source": [
    "q = deque()\n",
    "q.append"
   ]
  },
  {
   "cell_type": "code",
   "execution_count": 513,
   "metadata": {},
   "outputs": [],
   "source": [
    "seen = set()\n",
    "seen.add((1, 0))"
   ]
  },
  {
   "cell_type": "code",
   "execution_count": 514,
   "metadata": {},
   "outputs": [
    {
     "data": {
      "text/plain": [
       "{(1, 0)}"
      ]
     },
     "execution_count": 514,
     "metadata": {},
     "output_type": "execute_result"
    }
   ],
   "source": [
    "seen"
   ]
  },
  {
   "cell_type": "code",
   "execution_count": 515,
   "metadata": {},
   "outputs": [
    {
     "data": {
      "text/plain": [
       "True"
      ]
     },
     "execution_count": 515,
     "metadata": {},
     "output_type": "execute_result"
    }
   ],
   "source": [
    "(1, 0) in seen"
   ]
  },
  {
   "cell_type": "code",
   "execution_count": 517,
   "metadata": {},
   "outputs": [
    {
     "ename": "IndentationError",
     "evalue": "unindent does not match any outer indentation level (<tokenize>, line 4)",
     "output_type": "error",
     "traceback": [
      "\u001b[0;36m  File \u001b[0;32m\"<tokenize>\"\u001b[0;36m, line \u001b[0;32m4\u001b[0m\n\u001b[0;31m    def hasPath(self, maze: List[List[int]], start: List[int], destination: List[int]) -> bool:\u001b[0m\n\u001b[0m    ^\u001b[0m\n\u001b[0;31mIndentationError\u001b[0m\u001b[0;31m:\u001b[0m unindent does not match any outer indentation level\n"
     ]
    }
   ],
   "source": [
    "def isValid(self, x: int, y: int, maze) -> bool:\n",
    "        return 0 <= x < len(maze) and 0 <= y < len(maze[0]) and maze[x][y] == 0\n",
    "    \n",
    "    def hasPath(self, maze: List[List[int]], start: List[int], destination: List[int]) -> bool:\n",
    "        m = len(maze)\n",
    "        n = len(maze[0])\n",
    "        dirs = [0, 1, 0, -1, 0]\n",
    "\n",
    "        q = deque()\n",
    "        q.append((start[0], start[1]))\n",
    "        seen = set()\n",
    "        seen.add((start[0], start[1]))\n",
    "\n",
    "\n",
    "        while q:\n",
    "            i, j = q.popleft()\n",
    "            for k in range(4):\n",
    "                x = i\n",
    "                y = j\n",
    "                while self.isValid(x + dirs[k], y + dirs[k + 1], maze):\n",
    "                    x += dirs[k]\n",
    "                    y += dirs[k + 1]\n",
    "                if (x, y) in seen:\n",
    "                    continue\n",
    "                if x == destination[0] and y == destination[1]:\n",
    "                    return True\n",
    "                q.append((x, y))\n",
    "                seen.add((x, y))\n",
    "\n",
    "        return False"
   ]
  },
  {
   "cell_type": "code",
   "execution_count": 518,
   "metadata": {},
   "outputs": [],
   "source": [
    "class Custom:\n",
    "    def __init__(self):\n",
    "        self.q = deque()\n",
    "        self._set = set()\n",
    "        \n",
    "    def push(self, item):\n",
    "        self.q.append(item)\n",
    "        self._set.add(item)\n",
    "    \n",
    "    def pop(self):\n",
    "        item = self.q.popleft()\n",
    "        self._set.remove(item)\n",
    "        return item"
   ]
  },
  {
   "cell_type": "code",
   "execution_count": 550,
   "metadata": {},
   "outputs": [],
   "source": [
    "import heapq\n",
    "from itertools import count\n",
    "class PriorityQueue:\n",
    "    REMOVED = '<removed-task'\n",
    "    def __init__(self):\n",
    "        self._queue = []\n",
    "        self.entry_finder = {}\n",
    "        self.counter = count()\n",
    "    \n",
    "    def __repr__(self):\n",
    "        return repr(self._queue)\n",
    "    \n",
    "    def push(self, item, priority):\n",
    "        if item in self.entry_finder:\n",
    "            self.remove(item)\n",
    "        count = next(self.counter)\n",
    "        entry = [priority, count, item]\n",
    "        self.entry_finder[item] = entry\n",
    "        heapq.heappush(self._queue, entry)\n",
    "    \n",
    "    def remove(self, item):\n",
    "        entry = self.entry_finder[item]\n",
    "        entry[-1] = PriorityQueue.REMOVED\n",
    "        del self.entry_finder[item]\n",
    "\n",
    "    def pop(self):\n",
    "        while self._queue:\n",
    "            priority, count, task = heapq.heappop(self._queue)\n",
    "            if task is not PriorityQueue.REMOVED:\n",
    "                del self.entry_finder[task]\n",
    "                return task\n",
    "        raise keyError('pop from empty priority queue')\n",
    "    \n",
    "    def empty(self):\n",
    "        return len(self._queue) == []"
   ]
  },
  {
   "cell_type": "code",
   "execution_count": 553,
   "metadata": {},
   "outputs": [],
   "source": [
    "pq = PriorityQueue()\n",
    "pq.push(\"raju\", 5)\n",
    "pq.push(\"prema\", 4)\n",
    "pq.push(\"neptune\", 0)"
   ]
  },
  {
   "cell_type": "code",
   "execution_count": 552,
   "metadata": {},
   "outputs": [
    {
     "data": {
      "text/plain": [
       "'neptune'"
      ]
     },
     "execution_count": 552,
     "metadata": {},
     "output_type": "execute_result"
    }
   ],
   "source": [
    "pq.pop()"
   ]
  },
  {
   "cell_type": "code",
   "execution_count": 554,
   "metadata": {},
   "outputs": [],
   "source": [
    "pq.push(\"neptune\", 6)"
   ]
  },
  {
   "cell_type": "code",
   "execution_count": 559,
   "metadata": {},
   "outputs": [
    {
     "data": {
      "text/plain": [
       "False"
      ]
     },
     "execution_count": 559,
     "metadata": {},
     "output_type": "execute_result"
    }
   ],
   "source": [
    "bool(0)"
   ]
  },
  {
   "cell_type": "code",
   "execution_count": 563,
   "metadata": {},
   "outputs": [],
   "source": [
    "def intersection(nums1: List[int], nums2: List[int]) -> List[int]:\n",
    "    # mimic the fact that the sets are sorted in this other question\n",
    "    nums1, nums2 = sorted(nums1), sorted(nums2)\n",
    "    \n",
    "    # result array\n",
    "    res = []\n",
    "    \n",
    "    # start searching from the beginning of both\n",
    "    c1, c2 = 0, 0\n",
    "    \n",
    "    # if we reached the end of one of the arrays, we are done looking for common elements\n",
    "    while c1 < len(nums1) and c2 < len(nums2):\n",
    "        # elems are equal\n",
    "        if nums1[c1] == nums2[c2]:\n",
    "            elem = nums1[c1]\n",
    "            res.append(elem)\n",
    "            \n",
    "            # skip duplicate elements in both arrays\n",
    "            while c1 < len(nums1) and nums1[c1] == elem: \n",
    "                c1 += 1\n",
    "            while c2 < len(nums2) and nums2[c2] == elem:\n",
    "                c2 += 1\n",
    "        \n",
    "        # Since arrays are sorted, if there is mismatch we increment the counter for whatever\n",
    "        # array has a smaller element for each respective index\n",
    "        # i.e nums1 = [1, 3] and nums2 = [1, 2, 3] - We can't just increment both counters when c1 == c2 == 1\n",
    "        elif nums1[c1] < nums2[c2]:\n",
    "            c1 += 1\n",
    "        else:\n",
    "            c2 += 1\n",
    "    return res"
   ]
  },
  {
   "cell_type": "code",
   "execution_count": 572,
   "metadata": {},
   "outputs": [],
   "source": [
    "nums1 = [4, 9, 5]\n",
    "nums2 = [9, 4, 9, 8, 4, -1]"
   ]
  },
  {
   "cell_type": "code",
   "execution_count": 573,
   "metadata": {},
   "outputs": [
    {
     "data": {
      "text/plain": [
       "[4, 9]"
      ]
     },
     "execution_count": 573,
     "metadata": {},
     "output_type": "execute_result"
    }
   ],
   "source": [
    "intersection(nums1, nums2)"
   ]
  },
  {
   "cell_type": "code",
   "execution_count": 627,
   "metadata": {},
   "outputs": [],
   "source": [
    "\n",
    "def isValid(s: str) -> bool:\n",
    "    stack = Stack()\n",
    "    cache = {')': '(', '}':'{', ']': '['}\n",
    "    for char in s:\n",
    "        if char in cache:\n",
    "            \n",
    "            top_element = stack.pop() if not stack.empty() else '#'\n",
    "            \n",
    "            if cache[char] != top_element:\n",
    "                return 'what the fuck'\n",
    "        else:\n",
    "            stack.push(char)\n",
    "    return stack.empty()"
   ]
  },
  {
   "cell_type": "code",
   "execution_count": 628,
   "metadata": {},
   "outputs": [],
   "source": [
    "cache = {')': '(', '}':'{', ']': '['}"
   ]
  },
  {
   "cell_type": "code",
   "execution_count": 629,
   "metadata": {},
   "outputs": [
    {
     "name": "stdout",
     "output_type": "stream",
     "text": [
      "False\n",
      "True\n"
     ]
    }
   ],
   "source": [
    "s = \"()\"\n",
    "for char in s:\n",
    "    print(char in cache)"
   ]
  },
  {
   "cell_type": "code",
   "execution_count": 630,
   "metadata": {},
   "outputs": [
    {
     "data": {
      "text/plain": [
       "True"
      ]
     },
     "execution_count": 630,
     "metadata": {},
     "output_type": "execute_result"
    }
   ],
   "source": [
    "isValid(\"()\")"
   ]
  },
  {
   "cell_type": "code",
   "execution_count": null,
   "metadata": {},
   "outputs": [],
   "source": []
  }
 ],
 "metadata": {
  "interpreter": {
   "hash": "bf4fb71fce9e3a23ee0c5767a71cb0cc07099e63c56f643ef38448230a56de38"
  },
  "kernelspec": {
   "display_name": "Python 3.9.6 64-bit ('py39': venv)",
   "name": "python3"
  },
  "language_info": {
   "codemirror_mode": {
    "name": "ipython",
    "version": 3
   },
   "file_extension": ".py",
   "mimetype": "text/x-python",
   "name": "python",
   "nbconvert_exporter": "python",
   "pygments_lexer": "ipython3",
   "version": "3.9.6"
  },
  "orig_nbformat": 4
 },
 "nbformat": 4,
 "nbformat_minor": 2
}
