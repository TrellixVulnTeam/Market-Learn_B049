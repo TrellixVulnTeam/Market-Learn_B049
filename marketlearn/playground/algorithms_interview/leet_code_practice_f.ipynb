{
 "cells": [
  {
   "cell_type": "markdown",
   "metadata": {},
   "source": [
    "# Binary Search Trees"
   ]
  },
  {
   "cell_type": "code",
   "execution_count": 4,
   "metadata": {},
   "outputs": [],
   "source": [
    "class TreeNode:\n",
    "    def __init__(self, val=0, left=None, right=None):\n",
    "        self.val = val\n",
    "        self.left = left\n",
    "        self.right = right\n",
    "    \n",
    "    def __repr__(self):\n",
    "        return f\"TreeNode(val={self.val}, left={self.left}, right={self.right}\"\n",
    "\n",
    "class Stack:\n",
    "    def __init__(self):\n",
    "        self.data = []\n",
    "\n",
    "    def empty(self):\n",
    "        return self.data == []\n",
    "    \n",
    "    def __repr__(self):\n",
    "        return repr(self.data)\n",
    "    \n",
    "    def pop(self):\n",
    "        return self.data.pop()\n",
    "    \n",
    "    def push(self, item):\n",
    "        self.data.append(item)\n",
    "    \n",
    "    def peek(self):\n",
    "        return self.data[-1]"
   ]
  },
  {
   "cell_type": "code",
   "execution_count": 5,
   "metadata": {},
   "outputs": [],
   "source": [
    "# Traversals using recursion\n",
    "def preorder(tree: TreeNode):\n",
    "    return [tree.val] + preorder(tree.left) + preorder(tree.right) if tree else []\n",
    "def inorder(tree: TreeNode):\n",
    "    return inorder(tree.left) + [tree.val] + inorder(tree.right) if tree else []\n",
    "def postorder(tree: TreeNode):\n",
    "    return postorder(tree.left) + postorder(tree.right) + [tree.val] if tree else []\n",
    "\n",
    "# Traversals using iterative methods\n",
    "def inorder_iterative(root: TreeNode):\n",
    "    s = Stack()\n",
    "    while not s.empty() or root is not None:\n",
    "        if root:\n",
    "            s.push(root)\n",
    "            root = root.left\n",
    "        else:\n",
    "            curr = s.peek()\n",
    "            s.pop()\n",
    "            yield curr.val\n",
    "            root = curr.right\n",
    "\n",
    "def preorder_iterative(root: TreeNode):\n",
    "    s = Stack()\n",
    "    s.push(root)\n",
    "    while not s.empty():\n",
    "        curr = s.peek()\n",
    "        s.pop()\n",
    "        yield curr.val\n",
    "        # right must be pushed first \n",
    "        # so that left child is processed first\n",
    "        # lifo\n",
    "        if curr.right:\n",
    "            s.push(curr.right)\n",
    "        if curr.left:\n",
    "            s.push(curr.left)\n",
    "\n",
    "def preorder_iterativeoptim(root: TreeNode):\n",
    "    s = Stack()\n",
    "    s.push(root)\n",
    "    curr = root\n",
    "    while not s.empty():\n",
    "        if curr:\n",
    "            yield curr.val\n",
    "            if curr.right:\n",
    "                s.push(curr.right)\n",
    "            curr = curr.left\n",
    "        else:\n",
    "            curr = s.peek()\n",
    "            s.pop()\n",
    "\n",
    "\n",
    "\n",
    "\n",
    "    "
   ]
  },
  {
   "cell_type": "code",
   "execution_count": 21,
   "metadata": {},
   "outputs": [],
   "source": [
    "test = TreeNode(10)\n",
    "test.left = TreeNode(5)\n",
    "test.right = TreeNode(15)\n",
    "test.right.left = TreeNode(14)\n",
    "test.right.right = TreeNode(16)\n",
    "test.left.left = TreeNode(2)\n",
    "test.left.right = TreeNode(7)"
   ]
  },
  {
   "cell_type": "code",
   "execution_count": 55,
   "metadata": {},
   "outputs": [
    {
     "name": "stdout",
     "output_type": "stream",
     "text": [
      "preorder: [10, 5, 2, 7, 15, 14, 16]\n",
      "postorder: [2, 7, 5, 14, 16, 15, 10]\n",
      "inorder: [2, 5, 7, 10, 14, 15, 16]\n"
     ]
    }
   ],
   "source": [
    "print(f'preorder: {preorder(test)}') \n",
    "print(f'postorder: {postorder(test)}')\n",
    "print(f'inorder: {inorder(test)}')"
   ]
  },
  {
   "cell_type": "code",
   "execution_count": 44,
   "metadata": {},
   "outputs": [],
   "source": [
    "# Lowest common ancestor\n",
    "# recursive\n",
    "def lca(root: TreeNode, p: TreeNode, q: TreeNode):\n",
    "    parent_val = root.val\n",
    "    pval = p.val\n",
    "    qval = q.val\n",
    "    if pval > parent_val and qval > parent_val:\n",
    "        return lca(root.right, p, q)\n",
    "    if pval < parent_val and qval < parent_val:\n",
    "        return lca(root.left, p, q)\n",
    "    else:\n",
    "        return root.val\n",
    "\n",
    "def lca_iterative(root: TreeNode, p: TreeNode, q: TreeNode):\n",
    "    pval = p.val\n",
    "    qval = q.val\n",
    "    \n",
    "    while root is not None:\n",
    "        parent_val = root.val\n",
    "        if pval > parent_val and qval > parent_val:\n",
    "            root = root.right\n",
    "        if pval < parent_val and qval < parent_val:\n",
    "            root = root.left\n",
    "        else:\n",
    "            return root.val\n",
    "        "
   ]
  },
  {
   "cell_type": "code",
   "execution_count": 45,
   "metadata": {},
   "outputs": [],
   "source": [
    "p = TreeNode(2)\n",
    "q = TreeNode(7)"
   ]
  },
  {
   "cell_type": "code",
   "execution_count": 46,
   "metadata": {},
   "outputs": [
    {
     "data": {
      "text/plain": [
       "5"
      ]
     },
     "execution_count": 46,
     "metadata": {},
     "output_type": "execute_result"
    }
   ],
   "source": [
    "lca_iterative(test, p, q)"
   ]
  },
  {
   "cell_type": "code",
   "execution_count": 47,
   "metadata": {},
   "outputs": [
    {
     "data": {
      "text/plain": [
       "5"
      ]
     },
     "execution_count": 47,
     "metadata": {},
     "output_type": "execute_result"
    }
   ],
   "source": [
    "lca(test, p, q)"
   ]
  },
  {
   "cell_type": "code",
   "execution_count": 8,
   "metadata": {},
   "outputs": [],
   "source": [
    "def validate_parenthesis(string: str):\n",
    "    cache = {')': \"(\", \"}\": \"{\", \"]\": \"[\"}\n",
    "    s = Stack()\n",
    "    for char in string:\n",
    "        if char in cache:\n",
    "            top_element = s.pop() if not s.empty() else '-'\n",
    "            if cache[char] != top_element:\n",
    "                return False\n",
    "        else:\n",
    "            s.push(char)\n",
    "    return s.empty()"
   ]
  },
  {
   "cell_type": "code",
   "execution_count": 12,
   "metadata": {},
   "outputs": [
    {
     "data": {
      "text/plain": [
       "False"
      ]
     },
     "execution_count": 12,
     "metadata": {},
     "output_type": "execute_result"
    }
   ],
   "source": [
    "validate_parenthesis(\"()}{\")"
   ]
  },
  {
   "cell_type": "code",
   "execution_count": null,
   "metadata": {},
   "outputs": [],
   "source": []
  }
 ],
 "metadata": {
  "interpreter": {
   "hash": "bf4fb71fce9e3a23ee0c5767a71cb0cc07099e63c56f643ef38448230a56de38"
  },
  "kernelspec": {
   "display_name": "Python 3.9.6 64-bit ('py39': venv)",
   "name": "python3"
  },
  "language_info": {
   "codemirror_mode": {
    "name": "ipython",
    "version": 3
   },
   "file_extension": ".py",
   "mimetype": "text/x-python",
   "name": "python",
   "nbconvert_exporter": "python",
   "pygments_lexer": "ipython3",
   "version": "3.9.6"
  },
  "orig_nbformat": 4
 },
 "nbformat": 4,
 "nbformat_minor": 2
}
